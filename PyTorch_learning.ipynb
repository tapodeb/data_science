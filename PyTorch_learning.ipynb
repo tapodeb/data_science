{
  "nbformat": 4,
  "nbformat_minor": 0,
  "metadata": {
    "colab": {
      "provenance": [],
      "gpuType": "T4",
      "collapsed_sections": [
        "SNUQqx21NWaX",
        "cndA63sPgaQ3",
        "8RJE_Ln5D5R5"
      ],
      "authorship_tag": "ABX9TyMI4FPdU/V/RqYZ+KzCFBik",
      "include_colab_link": true
    },
    "kernelspec": {
      "name": "python3",
      "display_name": "Python 3"
    },
    "language_info": {
      "name": "python"
    },
    "accelerator": "GPU"
  },
  "cells": [
    {
      "cell_type": "markdown",
      "metadata": {
        "id": "view-in-github",
        "colab_type": "text"
      },
      "source": [
        "<a href=\"https://colab.research.google.com/github/tapodeb/data_science/blob/main/PyTorch_learning.ipynb\" target=\"_parent\"><img src=\"https://colab.research.google.com/assets/colab-badge.svg\" alt=\"Open In Colab\"/></a>"
      ]
    },
    {
      "cell_type": "code",
      "execution_count": 1,
      "metadata": {
        "colab": {
          "base_uri": "https://localhost:8080/"
        },
        "id": "BjksYEylI3Kq",
        "outputId": "de0348bd-7eb2-460b-f1b5-3ac2b326ad33"
      },
      "outputs": [
        {
          "output_type": "stream",
          "name": "stdout",
          "text": [
            "Sun Jun 11 22:32:01 2023       \n",
            "+-----------------------------------------------------------------------------+\n",
            "| NVIDIA-SMI 525.85.12    Driver Version: 525.85.12    CUDA Version: 12.0     |\n",
            "|-------------------------------+----------------------+----------------------+\n",
            "| GPU  Name        Persistence-M| Bus-Id        Disp.A | Volatile Uncorr. ECC |\n",
            "| Fan  Temp  Perf  Pwr:Usage/Cap|         Memory-Usage | GPU-Util  Compute M. |\n",
            "|                               |                      |               MIG M. |\n",
            "|===============================+======================+======================|\n",
            "|   0  Tesla T4            Off  | 00000000:00:04.0 Off |                    0 |\n",
            "| N/A   45C    P8     9W /  70W |      0MiB / 15360MiB |      0%      Default |\n",
            "|                               |                      |                  N/A |\n",
            "+-------------------------------+----------------------+----------------------+\n",
            "                                                                               \n",
            "+-----------------------------------------------------------------------------+\n",
            "| Processes:                                                                  |\n",
            "|  GPU   GI   CI        PID   Type   Process name                  GPU Memory |\n",
            "|        ID   ID                                                   Usage      |\n",
            "|=============================================================================|\n",
            "|  No running processes found                                                 |\n",
            "+-----------------------------------------------------------------------------+\n"
          ]
        }
      ],
      "source": [
        "!nvidia-smi"
      ]
    },
    {
      "cell_type": "code",
      "source": [
        "import torch\n",
        "import pandas as pd\n",
        "import numpy as np\n",
        "import matplotlib.pyplot as plt\n",
        "\n",
        "print (torch.__version__)"
      ],
      "metadata": {
        "colab": {
          "base_uri": "https://localhost:8080/"
        },
        "id": "eV4kkVeP2l7q",
        "outputId": "9d92e330-755c-46b1-c447-9cfa141963cd"
      },
      "execution_count": 2,
      "outputs": [
        {
          "output_type": "stream",
          "name": "stdout",
          "text": [
            "2.0.1+cu118\n"
          ]
        }
      ]
    },
    {
      "cell_type": "code",
      "source": [
        "#scalar\n",
        "scalar = torch.tensor(7)\n",
        "scalar"
      ],
      "metadata": {
        "colab": {
          "base_uri": "https://localhost:8080/"
        },
        "id": "NiRdyAAy70wg",
        "outputId": "3e9e13b7-93a9-4cf5-a3a4-8da20dec0a3b"
      },
      "execution_count": 3,
      "outputs": [
        {
          "output_type": "execute_result",
          "data": {
            "text/plain": [
              "tensor(7)"
            ]
          },
          "metadata": {},
          "execution_count": 3
        }
      ]
    },
    {
      "cell_type": "code",
      "source": [
        "#check the dimensions of a tensor using the ndim attribute\n",
        "scalar.ndim"
      ],
      "metadata": {
        "colab": {
          "base_uri": "https://localhost:8080/"
        },
        "id": "PWJcxg4I8uh_",
        "outputId": "d729d384-6167-4d0a-a1e6-b2a76684b861"
      },
      "execution_count": 4,
      "outputs": [
        {
          "output_type": "execute_result",
          "data": {
            "text/plain": [
              "0"
            ]
          },
          "metadata": {},
          "execution_count": 4
        }
      ]
    },
    {
      "cell_type": "code",
      "source": [
        "#retrieve the number from the tensor OR turn it from torch.Tensor to a Python integer\n",
        "scalar.item()"
      ],
      "metadata": {
        "colab": {
          "base_uri": "https://localhost:8080/"
        },
        "id": "0wCxofYv80u1",
        "outputId": "c67ea813-2436-4d7f-d88f-aa216d4f1563"
      },
      "execution_count": 5,
      "outputs": [
        {
          "output_type": "execute_result",
          "data": {
            "text/plain": [
              "7"
            ]
          },
          "metadata": {},
          "execution_count": 5
        }
      ]
    },
    {
      "cell_type": "code",
      "source": [
        "#vector\n",
        "vector = torch.tensor([2,3])\n",
        "vector"
      ],
      "metadata": {
        "colab": {
          "base_uri": "https://localhost:8080/"
        },
        "id": "7OWE4Pc58-xN",
        "outputId": "a960dea8-aa0b-4b73-f196-af9668eb6752"
      },
      "execution_count": 6,
      "outputs": [
        {
          "output_type": "execute_result",
          "data": {
            "text/plain": [
              "tensor([2, 3])"
            ]
          },
          "metadata": {},
          "execution_count": 6
        }
      ]
    },
    {
      "cell_type": "code",
      "source": [
        "# Check the number of dimensions of vector\n",
        "vector.ndim"
      ],
      "metadata": {
        "colab": {
          "base_uri": "https://localhost:8080/"
        },
        "id": "D6_jiBz-9vw4",
        "outputId": "81e8ac10-6460-4283-bf3b-e4dac50d8bde"
      },
      "execution_count": 7,
      "outputs": [
        {
          "output_type": "execute_result",
          "data": {
            "text/plain": [
              "1"
            ]
          },
          "metadata": {},
          "execution_count": 7
        }
      ]
    },
    {
      "cell_type": "code",
      "source": [
        "#shape defines how the tensor elements are arranged\n",
        "vector.shape"
      ],
      "metadata": {
        "colab": {
          "base_uri": "https://localhost:8080/"
        },
        "id": "1yB_BDRY911F",
        "outputId": "ce6f8ad0-4572-4957-e60f-f38c8d3ace94"
      },
      "execution_count": 8,
      "outputs": [
        {
          "output_type": "execute_result",
          "data": {
            "text/plain": [
              "torch.Size([2])"
            ]
          },
          "metadata": {},
          "execution_count": 8
        }
      ]
    },
    {
      "cell_type": "code",
      "source": [
        "#Matrix\n",
        "MATRIX = torch.tensor([[1,2,3],[4,5,6]])\n",
        "MATRIX"
      ],
      "metadata": {
        "colab": {
          "base_uri": "https://localhost:8080/"
        },
        "id": "HbpAIEJU-chH",
        "outputId": "fdb4305b-5264-4261-fa0e-7a56f899a60e"
      },
      "execution_count": 9,
      "outputs": [
        {
          "output_type": "execute_result",
          "data": {
            "text/plain": [
              "tensor([[1, 2, 3],\n",
              "        [4, 5, 6]])"
            ]
          },
          "metadata": {},
          "execution_count": 9
        }
      ]
    },
    {
      "cell_type": "code",
      "source": [
        "MATRIX.ndim"
      ],
      "metadata": {
        "colab": {
          "base_uri": "https://localhost:8080/"
        },
        "id": "aJrmRjCg-t1l",
        "outputId": "76af2256-2fe5-412f-974a-8748ee952747"
      },
      "execution_count": 10,
      "outputs": [
        {
          "output_type": "execute_result",
          "data": {
            "text/plain": [
              "2"
            ]
          },
          "metadata": {},
          "execution_count": 10
        }
      ]
    },
    {
      "cell_type": "code",
      "source": [
        "MATRIX.shape"
      ],
      "metadata": {
        "colab": {
          "base_uri": "https://localhost:8080/"
        },
        "id": "bMJbXaWh-w0N",
        "outputId": "02af1f30-f074-4167-f0fc-083e4d4bac55"
      },
      "execution_count": 11,
      "outputs": [
        {
          "output_type": "execute_result",
          "data": {
            "text/plain": [
              "torch.Size([2, 3])"
            ]
          },
          "metadata": {},
          "execution_count": 11
        }
      ]
    },
    {
      "cell_type": "code",
      "source": [
        "#index\n",
        "MATRIX[0]"
      ],
      "metadata": {
        "colab": {
          "base_uri": "https://localhost:8080/"
        },
        "id": "tSbdV6OV-1PC",
        "outputId": "a14a53d9-6d57-4a90-a4a5-c5f28b27bf89"
      },
      "execution_count": 12,
      "outputs": [
        {
          "output_type": "execute_result",
          "data": {
            "text/plain": [
              "tensor([1, 2, 3])"
            ]
          },
          "metadata": {},
          "execution_count": 12
        }
      ]
    },
    {
      "cell_type": "code",
      "source": [
        "#check the tensor dimensions by changing the number of [] brackets\n",
        "TENSOR = torch.tensor([[[1,2,3],\n",
        "                        [3,4,5],\n",
        "                        [6,7,9]]])\n",
        "print (TENSOR)\n",
        "TENSOR.shape"
      ],
      "metadata": {
        "colab": {
          "base_uri": "https://localhost:8080/"
        },
        "id": "O28QKcEXAY9I",
        "outputId": "4ab3218b-f8ad-47d1-b591-85bd17e613e6"
      },
      "execution_count": 13,
      "outputs": [
        {
          "output_type": "stream",
          "name": "stdout",
          "text": [
            "tensor([[[1, 2, 3],\n",
            "         [3, 4, 5],\n",
            "         [6, 7, 9]]])\n"
          ]
        },
        {
          "output_type": "execute_result",
          "data": {
            "text/plain": [
              "torch.Size([1, 3, 3])"
            ]
          },
          "metadata": {},
          "execution_count": 13
        }
      ]
    },
    {
      "cell_type": "code",
      "source": [
        "#random tensor\n",
        "random_tensor = torch.rand(3, 4)\n",
        "random_tensor"
      ],
      "metadata": {
        "colab": {
          "base_uri": "https://localhost:8080/"
        },
        "id": "cZfIYY9bVSnT",
        "outputId": "6280d769-133a-4e77-f8ec-b4948c589674"
      },
      "execution_count": 14,
      "outputs": [
        {
          "output_type": "execute_result",
          "data": {
            "text/plain": [
              "tensor([[0.0366, 0.4470, 0.8253, 0.0437],\n",
              "        [0.8050, 0.5985, 0.3714, 0.5673],\n",
              "        [0.1297, 0.6979, 0.0885, 0.8266]])"
            ]
          },
          "metadata": {},
          "execution_count": 14
        }
      ]
    },
    {
      "cell_type": "code",
      "source": [
        "#tensor of zeros\n",
        "zeros = torch.zeros(2,5)\n",
        "zeros"
      ],
      "metadata": {
        "colab": {
          "base_uri": "https://localhost:8080/"
        },
        "id": "Q3FMtPaFWUx0",
        "outputId": "1e79b6db-c761-4845-827f-4ebd8f362aab"
      },
      "execution_count": 15,
      "outputs": [
        {
          "output_type": "execute_result",
          "data": {
            "text/plain": [
              "tensor([[0., 0., 0., 0., 0.],\n",
              "        [0., 0., 0., 0., 0.]])"
            ]
          },
          "metadata": {},
          "execution_count": 15
        }
      ]
    },
    {
      "cell_type": "code",
      "source": [
        "#tensor of ones\n",
        "ones = torch.ones(3,4)\n",
        "ones"
      ],
      "metadata": {
        "colab": {
          "base_uri": "https://localhost:8080/"
        },
        "id": "NVMu3JL3YFgZ",
        "outputId": "e7553bfb-8e6d-4c2e-8a04-28378d19b8c4"
      },
      "execution_count": 16,
      "outputs": [
        {
          "output_type": "execute_result",
          "data": {
            "text/plain": [
              "tensor([[1., 1., 1., 1.],\n",
              "        [1., 1., 1., 1.],\n",
              "        [1., 1., 1., 1.]])"
            ]
          },
          "metadata": {},
          "execution_count": 16
        }
      ]
    },
    {
      "cell_type": "code",
      "source": [
        "#identity matrix\n",
        "I_s = torch.eye(3,5)\n",
        "I_s"
      ],
      "metadata": {
        "colab": {
          "base_uri": "https://localhost:8080/"
        },
        "id": "1D6PYmzLasrb",
        "outputId": "b752d7b7-83fd-4ee1-8eb5-424843cebf62"
      },
      "execution_count": 17,
      "outputs": [
        {
          "output_type": "execute_result",
          "data": {
            "text/plain": [
              "tensor([[1., 0., 0., 0., 0.],\n",
              "        [0., 1., 0., 0., 0.],\n",
              "        [0., 0., 1., 0., 0.]])"
            ]
          },
          "metadata": {},
          "execution_count": 17
        }
      ]
    },
    {
      "cell_type": "code",
      "source": [
        "#reset values\n",
        "random_tensor = torch.rand(3, 4)\n",
        "print (random_tensor)\n",
        "zeros = torch.zeros(1)\n",
        "print(zeros)\n",
        "random_tensor*zeros"
      ],
      "metadata": {
        "colab": {
          "base_uri": "https://localhost:8080/"
        },
        "id": "UxshEX03YZOv",
        "outputId": "8c608c1a-96c4-4ba5-f008-f79a79222ee3"
      },
      "execution_count": 18,
      "outputs": [
        {
          "output_type": "stream",
          "name": "stdout",
          "text": [
            "tensor([[5.2665e-01, 2.7223e-01, 4.6616e-01, 5.4210e-01],\n",
            "        [7.5376e-04, 9.3023e-01, 2.3628e-01, 6.3320e-02],\n",
            "        [5.8129e-01, 4.5462e-01, 3.8086e-01, 9.3368e-01]])\n",
            "tensor([0.])\n"
          ]
        },
        {
          "output_type": "execute_result",
          "data": {
            "text/plain": [
              "tensor([[0., 0., 0., 0.],\n",
              "        [0., 0., 0., 0.],\n",
              "        [0., 0., 0., 0.]])"
            ]
          },
          "metadata": {},
          "execution_count": 18
        }
      ]
    },
    {
      "cell_type": "code",
      "source": [
        "#Range\n",
        "torch.range(1,10)"
      ],
      "metadata": {
        "colab": {
          "base_uri": "https://localhost:8080/"
        },
        "id": "eATu4v3KbJaZ",
        "outputId": "61a8b974-8755-4c3e-c35e-b73465b61a01"
      },
      "execution_count": 19,
      "outputs": [
        {
          "output_type": "stream",
          "name": "stderr",
          "text": [
            "<ipython-input-19-3785c09540d6>:2: UserWarning: torch.range is deprecated and will be removed in a future release because its behavior is inconsistent with Python's range builtin. Instead, use torch.arange, which produces values in [start, end).\n",
            "  torch.range(1,10)\n"
          ]
        },
        {
          "output_type": "execute_result",
          "data": {
            "text/plain": [
              "tensor([ 1.,  2.,  3.,  4.,  5.,  6.,  7.,  8.,  9., 10.])"
            ]
          },
          "metadata": {},
          "execution_count": 19
        }
      ]
    },
    {
      "cell_type": "code",
      "source": [
        "#As torch.range might get removed in future - check previous warning, use this\n",
        "torch.arange(1,10)"
      ],
      "metadata": {
        "colab": {
          "base_uri": "https://localhost:8080/"
        },
        "id": "2sZG6cczb-my",
        "outputId": "5c29a34d-f201-4381-fb45-06902331ee8c"
      },
      "execution_count": 20,
      "outputs": [
        {
          "output_type": "execute_result",
          "data": {
            "text/plain": [
              "tensor([1, 2, 3, 4, 5, 6, 7, 8, 9])"
            ]
          },
          "metadata": {},
          "execution_count": 20
        }
      ]
    },
    {
      "cell_type": "code",
      "source": [
        "#craeting tensor of same shape\n",
        "one_to_ten = torch.arange(start=1, end =11, step=1)\n",
        "print(one_to_ten)\n",
        "ten_zeros = torch.zeros_like(input=one_to_ten)\n",
        "ten_zeros"
      ],
      "metadata": {
        "colab": {
          "base_uri": "https://localhost:8080/"
        },
        "id": "kSzhMkEWdrKk",
        "outputId": "e23436da-06f4-4ec5-fa49-d6288484b6f3"
      },
      "execution_count": 21,
      "outputs": [
        {
          "output_type": "stream",
          "name": "stdout",
          "text": [
            "tensor([ 1,  2,  3,  4,  5,  6,  7,  8,  9, 10])\n"
          ]
        },
        {
          "output_type": "execute_result",
          "data": {
            "text/plain": [
              "tensor([0, 0, 0, 0, 0, 0, 0, 0, 0, 0])"
            ]
          },
          "metadata": {},
          "execution_count": 21
        }
      ]
    },
    {
      "cell_type": "markdown",
      "source": [
        "## **Data Type**\n",
        "https://pytorch.org/docs/stable/tensors.html"
      ],
      "metadata": {
        "id": "SNUQqx21NWaX"
      }
    },
    {
      "cell_type": "code",
      "source": [
        "#tensor datatype and attributes\n",
        "# Default datatype for tensors is float32\n",
        "float_32_tensor = torch.tensor([3.0, 6.0, 9.0],\n",
        "                               dtype=None, # defaults to None, which is torch.float32 or whatever datatype is passed\n",
        "                               device=None, # defaults to None, which uses the default tensor type\n",
        "                               requires_grad=False) # if True, operations performed on the tensor are recorded \n",
        "\n",
        "float_32_tensor.shape, float_32_tensor.dtype, float_32_tensor.device\n"
      ],
      "metadata": {
        "colab": {
          "base_uri": "https://localhost:8080/"
        },
        "id": "qk5_qKv1m03V",
        "outputId": "acaaeb34-cac8-49fa-86e6-ace9babc179c"
      },
      "execution_count": 22,
      "outputs": [
        {
          "output_type": "execute_result",
          "data": {
            "text/plain": [
              "(torch.Size([3]), torch.float32, device(type='cpu'))"
            ]
          },
          "metadata": {},
          "execution_count": 22
        }
      ]
    },
    {
      "cell_type": "code",
      "source": [
        "# torch.half: half precion than default float32\n",
        "float_16_tensor = torch.tensor([3.0,6.0,9.0], dtype=torch.float16) #dtype=torch.half also work\n",
        "float_16_tensor, float_16_tensor.dtype"
      ],
      "metadata": {
        "colab": {
          "base_uri": "https://localhost:8080/"
        },
        "id": "cVrvup2a10bz",
        "outputId": "8aa9c4eb-95f1-42c1-e634-6a973bb0af7c"
      },
      "execution_count": 23,
      "outputs": [
        {
          "output_type": "execute_result",
          "data": {
            "text/plain": [
              "(tensor([3., 6., 9.], dtype=torch.float16), torch.float16)"
            ]
          },
          "metadata": {},
          "execution_count": 23
        }
      ]
    },
    {
      "cell_type": "code",
      "source": [
        "# torch.double: double precion than default float32\n",
        "float_64_tensor = torch.tensor([3.0,6.0,9.0], dtype=torch.float64) #dtype=torch.double also work\n",
        "float_64_tensor, float_64_tensor.dtype"
      ],
      "metadata": {
        "colab": {
          "base_uri": "https://localhost:8080/"
        },
        "id": "FmOG0DTLL6LS",
        "outputId": "1015e103-d6b8-4fad-f777-06b1e35db3ec"
      },
      "execution_count": 24,
      "outputs": [
        {
          "output_type": "execute_result",
          "data": {
            "text/plain": [
              "(tensor([3., 6., 9.], dtype=torch.float64), torch.float64)"
            ]
          },
          "metadata": {},
          "execution_count": 24
        }
      ]
    },
    {
      "cell_type": "code",
      "source": [
        "#results to the higher precision data type in a calculation \n",
        "tensor_mult_1 = float_32_tensor*float_16_tensor\n",
        "tensor_mult_2 = float_32_tensor*float_64_tensor\n",
        "tensor_mult_1.dtype, tensor_mult_2.dtype"
      ],
      "metadata": {
        "colab": {
          "base_uri": "https://localhost:8080/"
        },
        "id": "FFaQPAofLIr9",
        "outputId": "0b29f586-32a7-404f-c6d6-ed979259d79c"
      },
      "execution_count": 25,
      "outputs": [
        {
          "output_type": "execute_result",
          "data": {
            "text/plain": [
              "(torch.float32, torch.float64)"
            ]
          },
          "metadata": {},
          "execution_count": 25
        }
      ]
    },
    {
      "cell_type": "code",
      "source": [
        "tensor_add_1 = float_32_tensor+float_16_tensor\n",
        "tensor_add_2 = float_32_tensor+float_64_tensor\n",
        "tensor_add_1.dtype, tensor_add_2.dtype"
      ],
      "metadata": {
        "colab": {
          "base_uri": "https://localhost:8080/"
        },
        "id": "BwYGq68PMtng",
        "outputId": "5840d300-1fe1-4f19-9d2b-f51cf467a289"
      },
      "execution_count": 26,
      "outputs": [
        {
          "output_type": "execute_result",
          "data": {
            "text/plain": [
              "(torch.float32, torch.float64)"
            ]
          },
          "metadata": {},
          "execution_count": 26
        }
      ]
    },
    {
      "cell_type": "markdown",
      "source": [
        "## **Math Operations**\n",
        "Site: https://www.mathsisfun.com/algebra/matrix-multiplying.html\n",
        "\n",
        "Calculator: https://www.mathsisfun.com/algebra/matrix-calculator.html\n",
        "\n",
        "Another visual calculator: http://matrixmultiplication.xyz/"
      ],
      "metadata": {
        "id": "cndA63sPgaQ3"
      }
    },
    {
      "cell_type": "code",
      "source": [
        "# basic math operation\n",
        "tensor = torch.tensor([1,2,3])\n",
        "tensor * 10, tensor + 10, tensor - 10, tensor / 10, tensor / 0"
      ],
      "metadata": {
        "colab": {
          "base_uri": "https://localhost:8080/"
        },
        "id": "Bj_bGYKXPcOX",
        "outputId": "fc1339ea-eb58-4ab7-d2e0-4b7de6876a58"
      },
      "execution_count": 27,
      "outputs": [
        {
          "output_type": "execute_result",
          "data": {
            "text/plain": [
              "(tensor([10, 20, 30]),\n",
              " tensor([11, 12, 13]),\n",
              " tensor([-9, -8, -7]),\n",
              " tensor([0.1000, 0.2000, 0.3000]),\n",
              " tensor([inf, inf, inf]))"
            ]
          },
          "metadata": {},
          "execution_count": 27
        }
      ]
    },
    {
      "cell_type": "code",
      "source": [
        "# matrix multiplication and dot product\n",
        "print(f\"element-wise multiplication: {tensor} * {tensor} = {tensor * tensor}\")\n",
        "print(f\"dot product: torch.matmul(tensor, tensor) = {torch.matmul(tensor, tensor)}\")"
      ],
      "metadata": {
        "colab": {
          "base_uri": "https://localhost:8080/"
        },
        "id": "txOAXIarW07R",
        "outputId": "a1c2aa47-2db1-4ce6-ab6e-352644025104"
      },
      "execution_count": 28,
      "outputs": [
        {
          "output_type": "stream",
          "name": "stdout",
          "text": [
            "element-wise multiplication: tensor([1, 2, 3]) * tensor([1, 2, 3]) = tensor([1, 4, 9])\n",
            "dot product: torch.matmul(tensor, tensor) = 14\n"
          ]
        }
      ]
    },
    {
      "cell_type": "code",
      "source": [
        "# In math matrix dot operation is represted as (1,2,3).(1,2,3)\n",
        "# Above will be solved as \n",
        "1*1 + 2*2 + 3*3 "
      ],
      "metadata": {
        "colab": {
          "base_uri": "https://localhost:8080/"
        },
        "id": "-dj9c6-CZpcE",
        "outputId": "78b616ef-45bb-4c86-bc2b-e769ca0ec2b5"
      },
      "execution_count": 29,
      "outputs": [
        {
          "output_type": "execute_result",
          "data": {
            "text/plain": [
              "14"
            ]
          },
          "metadata": {},
          "execution_count": 29
        }
      ]
    },
    {
      "cell_type": "code",
      "source": [
        "# above math can be performed in a python for loop, \n",
        "# it gets more complex as the matrix shape increases\n",
        "%%time\n",
        "value = 0\n",
        "for i in range(len(tensor)):\n",
        "  value += tensor[i]+tensor[i]\n",
        "print(value)"
      ],
      "metadata": {
        "colab": {
          "base_uri": "https://localhost:8080/"
        },
        "id": "u_FpniwXcgze",
        "outputId": "6f2c44f6-3496-4171-e092-b6787dbfe3e2"
      },
      "execution_count": 30,
      "outputs": [
        {
          "output_type": "stream",
          "name": "stdout",
          "text": [
            "tensor(12)\n",
            "CPU times: user 1.25 ms, sys: 45 µs, total: 1.29 ms\n",
            "Wall time: 2.11 ms\n"
          ]
        }
      ]
    },
    {
      "cell_type": "code",
      "source": [
        "#using torch is much faster, simple code\n",
        "%%time\n",
        "torch.matmul(tensor, tensor)"
      ],
      "metadata": {
        "colab": {
          "base_uri": "https://localhost:8080/"
        },
        "id": "SE6qmLBZdFmj",
        "outputId": "5d9c6752-d112-46bc-a6aa-0be9b4ebc782"
      },
      "execution_count": 31,
      "outputs": [
        {
          "output_type": "stream",
          "name": "stdout",
          "text": [
            "CPU times: user 62 µs, sys: 11 µs, total: 73 µs\n",
            "Wall time: 77 µs\n"
          ]
        },
        {
          "output_type": "execute_result",
          "data": {
            "text/plain": [
              "tensor(14)"
            ]
          },
          "metadata": {},
          "execution_count": 31
        }
      ]
    },
    {
      "cell_type": "code",
      "source": [
        "#Tensor aggregation: min, max, mean, sum\n",
        "x = torch.arange(0,10,1)\n",
        "x, x.dtype"
      ],
      "metadata": {
        "colab": {
          "base_uri": "https://localhost:8080/"
        },
        "id": "R7tM8o0GndgO",
        "outputId": "6b614ed2-908f-4a9d-d211-8836e91b334a"
      },
      "execution_count": 32,
      "outputs": [
        {
          "output_type": "execute_result",
          "data": {
            "text/plain": [
              "(tensor([0, 1, 2, 3, 4, 5, 6, 7, 8, 9]), torch.int64)"
            ]
          },
          "metadata": {},
          "execution_count": 32
        }
      ]
    },
    {
      "cell_type": "code",
      "source": [
        "# Find minimum\n",
        "torch.min(x), x.min()"
      ],
      "metadata": {
        "colab": {
          "base_uri": "https://localhost:8080/"
        },
        "id": "f8fO9nghs72Q",
        "outputId": "ed89cb02-8c6d-420d-d9b4-349874200cb9"
      },
      "execution_count": 33,
      "outputs": [
        {
          "output_type": "execute_result",
          "data": {
            "text/plain": [
              "(tensor(0), tensor(0))"
            ]
          },
          "metadata": {},
          "execution_count": 33
        }
      ]
    },
    {
      "cell_type": "code",
      "source": [
        "# Find maximum\n",
        "torch.max(x), x.max()"
      ],
      "metadata": {
        "colab": {
          "base_uri": "https://localhost:8080/"
        },
        "id": "E35opmQytPj3",
        "outputId": "e6a6ecc6-448b-4e17-ebcd-455b564cfe53"
      },
      "execution_count": 34,
      "outputs": [
        {
          "output_type": "execute_result",
          "data": {
            "text/plain": [
              "(tensor(9), tensor(9))"
            ]
          },
          "metadata": {},
          "execution_count": 34
        }
      ]
    },
    {
      "cell_type": "code",
      "source": [
        "# Find mean\n",
        "# torch.mean(x), x.mean() # can only work on float\n",
        "torch.mean(x.type(torch.float32)), x.type(torch.float32).mean()"
      ],
      "metadata": {
        "colab": {
          "base_uri": "https://localhost:8080/"
        },
        "id": "jt5FApHJtibv",
        "outputId": "bde9df71-2d30-4c11-8b71-dafbb6250a41"
      },
      "execution_count": 35,
      "outputs": [
        {
          "output_type": "execute_result",
          "data": {
            "text/plain": [
              "(tensor(4.5000), tensor(4.5000))"
            ]
          },
          "metadata": {},
          "execution_count": 35
        }
      ]
    },
    {
      "cell_type": "code",
      "source": [
        "# Summation\n",
        "torch.sum(x), x.sum()"
      ],
      "metadata": {
        "colab": {
          "base_uri": "https://localhost:8080/"
        },
        "id": "OteTszyAwqn2",
        "outputId": "b0f016b2-c6a0-461c-f0da-32208200f792"
      },
      "execution_count": 36,
      "outputs": [
        {
          "output_type": "execute_result",
          "data": {
            "text/plain": [
              "(tensor(45), tensor(45))"
            ]
          },
          "metadata": {},
          "execution_count": 36
        }
      ]
    },
    {
      "cell_type": "code",
      "source": [
        "# Retrieve min, max value position / index\n",
        "torch.argmin(x), torch.argmax(x)"
      ],
      "metadata": {
        "colab": {
          "base_uri": "https://localhost:8080/"
        },
        "id": "haO3BfVdxvWD",
        "outputId": "d2f71fa1-21a0-44e3-f829-f959e6357000"
      },
      "execution_count": 37,
      "outputs": [
        {
          "output_type": "execute_result",
          "data": {
            "text/plain": [
              "(tensor(0), tensor(9))"
            ]
          },
          "metadata": {},
          "execution_count": 37
        }
      ]
    },
    {
      "cell_type": "code",
      "source": [
        "# Matrix multiplication rules\n",
        "# 1. Inner diemnsions must match\n",
        "# 2. Outer dimentions decides the resulting matrix shape\n",
        "tensor_shape_1 = torch.rand(3,4)\n",
        "tensor_shape_2 = torch.rand(4,5)\n",
        "# torch.matmul is same as torch.mm\n",
        "torch.mm(tensor_shape_1, tensor_shape_2)"
      ],
      "metadata": {
        "colab": {
          "base_uri": "https://localhost:8080/"
        },
        "id": "ufJ-xu_tj63G",
        "outputId": "fbc4b760-8502-4cf3-ae62-e6070652a371"
      },
      "execution_count": 38,
      "outputs": [
        {
          "output_type": "execute_result",
          "data": {
            "text/plain": [
              "tensor([[1.8516, 0.6998, 0.4503, 1.0754, 1.1379],\n",
              "        [1.3028, 0.5947, 0.4039, 0.5554, 0.6449],\n",
              "        [1.9748, 0.6348, 0.5021, 0.9332, 1.0573]])"
            ]
          },
          "metadata": {},
          "execution_count": 38
        }
      ]
    },
    {
      "cell_type": "markdown",
      "source": [
        "### **Matrix reshaping or mutation**\n",
        "\n",
        "\n",
        "1. Transpose\n",
        "2. Reshaping\n",
        "3. stacking\n",
        "4. squeezing\n",
        "5. unsqueezing\n",
        "6. Permuting\n"
      ],
      "metadata": {
        "id": "7-1w1hTo3NS6"
      }
    },
    {
      "cell_type": "code",
      "source": [
        "# tensor initial form\n",
        "print (tensor_shape_1, tensor_shape_1.shape)\n",
        "# tensor transpose\n",
        "print (tensor_shape_1.T, tensor_shape_1.T.shape)"
      ],
      "metadata": {
        "colab": {
          "base_uri": "https://localhost:8080/"
        },
        "id": "wbdmv9EMmxTA",
        "outputId": "797b0855-59ff-41ed-9b2e-2bf4cfbe39a6"
      },
      "execution_count": 39,
      "outputs": [
        {
          "output_type": "stream",
          "name": "stdout",
          "text": [
            "tensor([[0.9114, 0.1674, 0.6852, 0.6584],\n",
            "        [0.4690, 0.4377, 0.6817, 0.2471],\n",
            "        [0.5993, 0.5280, 0.4856, 0.7948]]) torch.Size([3, 4])\n",
            "tensor([[0.9114, 0.4690, 0.5993],\n",
            "        [0.1674, 0.4377, 0.5280],\n",
            "        [0.6852, 0.6817, 0.4856],\n",
            "        [0.6584, 0.2471, 0.7948]]) torch.Size([4, 3])\n"
          ]
        }
      ]
    },
    {
      "cell_type": "code",
      "source": [
        "# Reshape input (if compatible with torch size)\n",
        "# tensor items stays same\n",
        "tensor_reshape_1 = tensor_shape_1.reshape(6,2)\n",
        "tensor_shape_1, tensor_reshape_1, tensor_reshape_1.shape"
      ],
      "metadata": {
        "colab": {
          "base_uri": "https://localhost:8080/"
        },
        "id": "5sj6-MJu2iGz",
        "outputId": "76f19e59-bfce-4a6e-9b4d-b94760205ee3"
      },
      "execution_count": 40,
      "outputs": [
        {
          "output_type": "execute_result",
          "data": {
            "text/plain": [
              "(tensor([[0.9114, 0.1674, 0.6852, 0.6584],\n",
              "         [0.4690, 0.4377, 0.6817, 0.2471],\n",
              "         [0.5993, 0.5280, 0.4856, 0.7948]]),\n",
              " tensor([[0.9114, 0.1674],\n",
              "         [0.6852, 0.6584],\n",
              "         [0.4690, 0.4377],\n",
              "         [0.6817, 0.2471],\n",
              "         [0.5993, 0.5280],\n",
              "         [0.4856, 0.7948]]),\n",
              " torch.Size([6, 2]))"
            ]
          },
          "metadata": {},
          "execution_count": 40
        }
      ]
    },
    {
      "cell_type": "code",
      "source": [
        "# View of the original tensor in a different / same shape \n",
        "# tensor items stays same\n",
        "# but shares the same memmory\n",
        "x = tensor_shape_1.view(2,6)\n",
        "x, x.shape"
      ],
      "metadata": {
        "colab": {
          "base_uri": "https://localhost:8080/"
        },
        "id": "4emaYNr56RL3",
        "outputId": "e9c007b0-50df-47f3-b051-08da5a367a66"
      },
      "execution_count": 41,
      "outputs": [
        {
          "output_type": "execute_result",
          "data": {
            "text/plain": [
              "(tensor([[0.9114, 0.1674, 0.6852, 0.6584, 0.4690, 0.4377],\n",
              "         [0.6817, 0.2471, 0.5993, 0.5280, 0.4856, 0.7948]]),\n",
              " torch.Size([2, 6]))"
            ]
          },
          "metadata": {},
          "execution_count": 41
        }
      ]
    },
    {
      "cell_type": "code",
      "source": [
        "# Stacking\n",
        "# Concatenates a sequence of tensors along a new dimension (dim)\n",
        "# stacked tensors must be of same size\n",
        "x_stacked = torch.stack([x,x,x,x])\n",
        "x_stacked, x_stacked.shape"
      ],
      "metadata": {
        "colab": {
          "base_uri": "https://localhost:8080/"
        },
        "id": "bvvohtQg8Cv_",
        "outputId": "002ab11b-7159-4d23-b166-e4a2a32c4c29"
      },
      "execution_count": 42,
      "outputs": [
        {
          "output_type": "execute_result",
          "data": {
            "text/plain": [
              "(tensor([[[0.9114, 0.1674, 0.6852, 0.6584, 0.4690, 0.4377],\n",
              "          [0.6817, 0.2471, 0.5993, 0.5280, 0.4856, 0.7948]],\n",
              " \n",
              "         [[0.9114, 0.1674, 0.6852, 0.6584, 0.4690, 0.4377],\n",
              "          [0.6817, 0.2471, 0.5993, 0.5280, 0.4856, 0.7948]],\n",
              " \n",
              "         [[0.9114, 0.1674, 0.6852, 0.6584, 0.4690, 0.4377],\n",
              "          [0.6817, 0.2471, 0.5993, 0.5280, 0.4856, 0.7948]],\n",
              " \n",
              "         [[0.9114, 0.1674, 0.6852, 0.6584, 0.4690, 0.4377],\n",
              "          [0.6817, 0.2471, 0.5993, 0.5280, 0.4856, 0.7948]]]),\n",
              " torch.Size([4, 2, 6]))"
            ]
          },
          "metadata": {},
          "execution_count": 42
        }
      ]
    },
    {
      "cell_type": "code",
      "source": [
        "# Stacking and change dimensions\n",
        "x_stacked = torch.stack([x,x,x,x], dim=-1)\n",
        "x_stacked, x_stacked.shape"
      ],
      "metadata": {
        "colab": {
          "base_uri": "https://localhost:8080/"
        },
        "id": "2KZKvneC-Sec",
        "outputId": "60968c12-a95c-43d9-8b54-22b3b84bd9a0"
      },
      "execution_count": 43,
      "outputs": [
        {
          "output_type": "execute_result",
          "data": {
            "text/plain": [
              "(tensor([[[0.9114, 0.9114, 0.9114, 0.9114],\n",
              "          [0.1674, 0.1674, 0.1674, 0.1674],\n",
              "          [0.6852, 0.6852, 0.6852, 0.6852],\n",
              "          [0.6584, 0.6584, 0.6584, 0.6584],\n",
              "          [0.4690, 0.4690, 0.4690, 0.4690],\n",
              "          [0.4377, 0.4377, 0.4377, 0.4377]],\n",
              " \n",
              "         [[0.6817, 0.6817, 0.6817, 0.6817],\n",
              "          [0.2471, 0.2471, 0.2471, 0.2471],\n",
              "          [0.5993, 0.5993, 0.5993, 0.5993],\n",
              "          [0.5280, 0.5280, 0.5280, 0.5280],\n",
              "          [0.4856, 0.4856, 0.4856, 0.4856],\n",
              "          [0.7948, 0.7948, 0.7948, 0.7948]]]),\n",
              " torch.Size([2, 6, 4]))"
            ]
          },
          "metadata": {},
          "execution_count": 43
        }
      ]
    },
    {
      "cell_type": "code",
      "source": [
        "# Squeeze input to remove all the dimenions with value 1.\n",
        "x_squeeze = torch.squeeze(x_stacked)\n",
        "x_squeeze, x_squeeze.shape"
      ],
      "metadata": {
        "colab": {
          "base_uri": "https://localhost:8080/"
        },
        "id": "YR9p3taWAylt",
        "outputId": "265e6278-7792-43e2-b9f9-fe44bdbb65f3"
      },
      "execution_count": 44,
      "outputs": [
        {
          "output_type": "execute_result",
          "data": {
            "text/plain": [
              "(tensor([[[0.9114, 0.9114, 0.9114, 0.9114],\n",
              "          [0.1674, 0.1674, 0.1674, 0.1674],\n",
              "          [0.6852, 0.6852, 0.6852, 0.6852],\n",
              "          [0.6584, 0.6584, 0.6584, 0.6584],\n",
              "          [0.4690, 0.4690, 0.4690, 0.4690],\n",
              "          [0.4377, 0.4377, 0.4377, 0.4377]],\n",
              " \n",
              "         [[0.6817, 0.6817, 0.6817, 0.6817],\n",
              "          [0.2471, 0.2471, 0.2471, 0.2471],\n",
              "          [0.5993, 0.5993, 0.5993, 0.5993],\n",
              "          [0.5280, 0.5280, 0.5280, 0.5280],\n",
              "          [0.4856, 0.4856, 0.4856, 0.4856],\n",
              "          [0.7948, 0.7948, 0.7948, 0.7948]]]),\n",
              " torch.Size([2, 6, 4]))"
            ]
          },
          "metadata": {},
          "execution_count": 44
        }
      ]
    },
    {
      "cell_type": "code",
      "source": [
        "# Initializing tensor with extra 1-Dimesions for code validation\n",
        "x = torch.arange(1.,10)\n",
        "x_reshape = x.reshape(1,1,9)\n",
        "print (f\"Added 1-Dims: {x_reshape} \\n x_reshape.shape: {x_reshape.shape}\\n\")\n",
        "\n",
        "#squeeze\n",
        "x_squeeze = torch.squeeze(x_reshape)\n",
        "print (f\"Sqeezed tensor: {x_squeeze} \\n x_squeeze.shape {x_squeeze.shape}\")\n"
      ],
      "metadata": {
        "colab": {
          "base_uri": "https://localhost:8080/"
        },
        "id": "NFf7Kid-CnQz",
        "outputId": "7ae653b8-1535-4842-bb85-ab5272e02516"
      },
      "execution_count": 45,
      "outputs": [
        {
          "output_type": "stream",
          "name": "stdout",
          "text": [
            "Added 1-Dims: tensor([[[1., 2., 3., 4., 5., 6., 7., 8., 9.]]]) \n",
            " x_reshape.shape: torch.Size([1, 1, 9])\n",
            "\n",
            "Sqeezed tensor: tensor([1., 2., 3., 4., 5., 6., 7., 8., 9.]) \n",
            " x_squeeze.shape torch.Size([9])\n"
          ]
        }
      ]
    },
    {
      "cell_type": "code",
      "source": [
        "#unsqueeze\n",
        "x_unsqueeze = x_squeeze.unsqueeze(dim=0)\n",
        "x_unsqueeze, x_unsqueeze.shape"
      ],
      "metadata": {
        "colab": {
          "base_uri": "https://localhost:8080/"
        },
        "id": "fJCb2OhEGqyS",
        "outputId": "dfd8827e-6d8f-4b8b-8f3e-d500cb0e35b7"
      },
      "execution_count": 46,
      "outputs": [
        {
          "output_type": "execute_result",
          "data": {
            "text/plain": [
              "(tensor([[1., 2., 3., 4., 5., 6., 7., 8., 9.]]), torch.Size([1, 9]))"
            ]
          },
          "metadata": {},
          "execution_count": 46
        }
      ]
    },
    {
      "cell_type": "code",
      "source": [
        "#Permute \n",
        "#returns a view of the original tensor input with its dimensions permuted.\n",
        "x = torch.randn(2, 3, 5)\n",
        "x_permute = torch.permute(x, (2,0,1))\n",
        "x, x.size(), x_permute, x_permute.size()"
      ],
      "metadata": {
        "id": "vC73nKuGHlZX",
        "colab": {
          "base_uri": "https://localhost:8080/"
        },
        "outputId": "a98a47fb-8e30-478d-b8d6-c7c277a745e5"
      },
      "execution_count": 47,
      "outputs": [
        {
          "output_type": "execute_result",
          "data": {
            "text/plain": [
              "(tensor([[[ 2.4647,  1.0705, -0.9291,  0.2879,  1.0401],\n",
              "          [-0.6524,  0.0546,  0.4875, -1.3746, -1.3367],\n",
              "          [-0.1441,  1.8041, -1.0083, -1.5532, -0.4028]],\n",
              " \n",
              "         [[-1.6559,  1.5262, -1.5814,  0.6306, -0.0597],\n",
              "          [-0.0672,  0.2666, -0.2086,  0.2133, -1.4403],\n",
              "          [-0.7273, -1.1414, -0.7290,  0.7874, -1.0675]]]),\n",
              " torch.Size([2, 3, 5]),\n",
              " tensor([[[ 2.4647, -0.6524, -0.1441],\n",
              "          [-1.6559, -0.0672, -0.7273]],\n",
              " \n",
              "         [[ 1.0705,  0.0546,  1.8041],\n",
              "          [ 1.5262,  0.2666, -1.1414]],\n",
              " \n",
              "         [[-0.9291,  0.4875, -1.0083],\n",
              "          [-1.5814, -0.2086, -0.7290]],\n",
              " \n",
              "         [[ 0.2879, -1.3746, -1.5532],\n",
              "          [ 0.6306,  0.2133,  0.7874]],\n",
              " \n",
              "         [[ 1.0401, -1.3367, -0.4028],\n",
              "          [-0.0597, -1.4403, -1.0675]]]),\n",
              " torch.Size([5, 2, 3]))"
            ]
          },
          "metadata": {},
          "execution_count": 47
        }
      ]
    },
    {
      "cell_type": "markdown",
      "source": [
        "##**Indexing (selecting data from tensor)**\n",
        "Similar to Python lists or NumPy arrays"
      ],
      "metadata": {
        "id": "8RJE_Ln5D5R5"
      }
    },
    {
      "cell_type": "code",
      "source": [
        "x = torch.arange(1,10).reshape(1,3,3)\n",
        "x, x.shape"
      ],
      "metadata": {
        "id": "tP7VcTgBDCkf",
        "colab": {
          "base_uri": "https://localhost:8080/"
        },
        "outputId": "41d91668-08ae-466f-bb04-ffb1e0abf0d1"
      },
      "execution_count": 48,
      "outputs": [
        {
          "output_type": "execute_result",
          "data": {
            "text/plain": [
              "(tensor([[[1, 2, 3],\n",
              "          [4, 5, 6],\n",
              "          [7, 8, 9]]]),\n",
              " torch.Size([1, 3, 3]))"
            ]
          },
          "metadata": {},
          "execution_count": 48
        }
      ]
    },
    {
      "cell_type": "code",
      "source": [
        "#Index and dimension concept\n",
        "x[0], x[0][0], x[0,0] # x[0][0] same as x[0,0]"
      ],
      "metadata": {
        "colab": {
          "base_uri": "https://localhost:8080/"
        },
        "id": "ier2hYmJFlCc",
        "outputId": "48efca7a-966c-4f42-f310-d993dfa1e6f9"
      },
      "execution_count": 49,
      "outputs": [
        {
          "output_type": "execute_result",
          "data": {
            "text/plain": [
              "(tensor([[1, 2, 3],\n",
              "         [4, 5, 6],\n",
              "         [7, 8, 9]]),\n",
              " tensor([1, 2, 3]),\n",
              " tensor([1, 2, 3]))"
            ]
          },
          "metadata": {},
          "execution_count": 49
        }
      ]
    },
    {
      "cell_type": "code",
      "source": [
        "# first (1-D) dimension is 0th dim\n",
        "# try to select any item\n",
        "x[0][0][0], x[0,0,0], x[0,1,1], x[0,2,2]"
      ],
      "metadata": {
        "colab": {
          "base_uri": "https://localhost:8080/"
        },
        "id": "08tmxtcmGYYG",
        "outputId": "909a96ea-2d96-4780-d2e5-0f33840d4c89"
      },
      "execution_count": 50,
      "outputs": [
        {
          "output_type": "execute_result",
          "data": {
            "text/plain": [
              "(tensor(1), tensor(1), tensor(5), tensor(9))"
            ]
          },
          "metadata": {},
          "execution_count": 50
        }
      ]
    },
    {
      "cell_type": "code",
      "source": [
        "#use \":\" to specify \"all values in this dimension\"\n",
        "x[:,:,:], x[:], x[:,:]"
      ],
      "metadata": {
        "colab": {
          "base_uri": "https://localhost:8080/"
        },
        "id": "TFUER6dZIIxF",
        "outputId": "4a28fcff-ed31-4b07-f5a0-296058f9ede6"
      },
      "execution_count": 51,
      "outputs": [
        {
          "output_type": "execute_result",
          "data": {
            "text/plain": [
              "(tensor([[[1, 2, 3],\n",
              "          [4, 5, 6],\n",
              "          [7, 8, 9]]]),\n",
              " tensor([[[1, 2, 3],\n",
              "          [4, 5, 6],\n",
              "          [7, 8, 9]]]),\n",
              " tensor([[[1, 2, 3],\n",
              "          [4, 5, 6],\n",
              "          [7, 8, 9]]]))"
            ]
          },
          "metadata": {},
          "execution_count": 51
        }
      ]
    },
    {
      "cell_type": "code",
      "source": [
        "# select row, column or an element using \":\"\n",
        "x[:,:,0], x[:,1,:], x[:,1,2], x[:,:,2]"
      ],
      "metadata": {
        "colab": {
          "base_uri": "https://localhost:8080/"
        },
        "id": "amhrncjBI6wJ",
        "outputId": "70902a11-97cf-4f07-993d-76fd0ef90073"
      },
      "execution_count": 52,
      "outputs": [
        {
          "output_type": "execute_result",
          "data": {
            "text/plain": [
              "(tensor([[1, 4, 7]]), tensor([[4, 5, 6]]), tensor([6]), tensor([[3, 6, 9]]))"
            ]
          },
          "metadata": {},
          "execution_count": 52
        }
      ]
    },
    {
      "cell_type": "markdown",
      "source": [
        "## **PyTorch tensors & NumPy**\n",
        "1. NumPy array -> PyTorch tensor: `torch.from_numpy(ndarray)`\n",
        "2. PyTorch tensor -> NumPy array: `torch.Tensor.numpy()`"
      ],
      "metadata": {
        "id": "OFdMuFfVk91O"
      }
    },
    {
      "cell_type": "code",
      "source": [
        "# NumPy array Integer \n",
        "array = np.arange(1,10)\n",
        "array, array.dtype"
      ],
      "metadata": {
        "colab": {
          "base_uri": "https://localhost:8080/"
        },
        "id": "UMymIO83k9U1",
        "outputId": "6fc77e2c-1356-46f9-abce-a6a285e5803f"
      },
      "execution_count": 55,
      "outputs": [
        {
          "output_type": "execute_result",
          "data": {
            "text/plain": [
              "(array([1, 2, 3, 4, 5, 6, 7, 8, 9]), dtype('int64'))"
            ]
          },
          "metadata": {},
          "execution_count": 55
        }
      ]
    },
    {
      "cell_type": "code",
      "source": [
        "# NumPy array float\n",
        "# default float datatype is float64\n",
        "array = np.arange(1.,10.)\n",
        "array, array.dtype"
      ],
      "metadata": {
        "colab": {
          "base_uri": "https://localhost:8080/"
        },
        "id": "d9Vc0_N6mZFw",
        "outputId": "bf6f9b44-0d50-438f-f6df-1825786be32c"
      },
      "execution_count": 61,
      "outputs": [
        {
          "output_type": "execute_result",
          "data": {
            "text/plain": [
              "(array([1., 2., 3., 4., 5., 6., 7., 8., 9.]), dtype('float64'))"
            ]
          },
          "metadata": {},
          "execution_count": 61
        }
      ]
    },
    {
      "cell_type": "code",
      "source": [
        "# Numpy Convert datatype\n",
        "np.float32(array)"
      ],
      "metadata": {
        "colab": {
          "base_uri": "https://localhost:8080/"
        },
        "id": "rBkG-Ln4oTn0",
        "outputId": "0eab0583-23e6-461c-eabf-508fdc9da0ed"
      },
      "execution_count": 60,
      "outputs": [
        {
          "output_type": "execute_result",
          "data": {
            "text/plain": [
              "array([1., 2., 3., 4., 5., 6., 7., 8., 9.], dtype=float32)"
            ]
          },
          "metadata": {},
          "execution_count": 60
        }
      ]
    },
    {
      "cell_type": "code",
      "source": [
        "# NumPy array to PyTorch tensor\n",
        "# default datatype of numpy float64 propagetes in tensor \n",
        "tensor = torch.from_numpy(array)\n",
        "array, tensor"
      ],
      "metadata": {
        "colab": {
          "base_uri": "https://localhost:8080/"
        },
        "id": "cQkKs0ZAmRIX",
        "outputId": "16bc3f2e-0dc0-44ee-b1fb-bd780c430655"
      },
      "execution_count": 63,
      "outputs": [
        {
          "output_type": "execute_result",
          "data": {
            "text/plain": [
              "(array([1., 2., 3., 4., 5., 6., 7., 8., 9.]),\n",
              " tensor([1., 2., 3., 4., 5., 6., 7., 8., 9.], dtype=torch.float64))"
            ]
          },
          "metadata": {},
          "execution_count": 63
        }
      ]
    },
    {
      "cell_type": "code",
      "source": [
        "# go back to float32 datatype\n",
        "tensor.type(torch.float32), tensor.type(torch.float32).dtype"
      ],
      "metadata": {
        "colab": {
          "base_uri": "https://localhost:8080/"
        },
        "id": "Xghxx6BDpxcX",
        "outputId": "9429d124-7e9b-4a2c-d0d9-801ac9b9cac5"
      },
      "execution_count": 66,
      "outputs": [
        {
          "output_type": "execute_result",
          "data": {
            "text/plain": [
              "(tensor([1., 2., 3., 4., 5., 6., 7., 8., 9.]), torch.float32)"
            ]
          },
          "metadata": {},
          "execution_count": 66
        }
      ]
    },
    {
      "cell_type": "code",
      "source": [
        "# tensor stays same if arrary changed and vice versa\n",
        "array = array + 1\n",
        "array, tensor"
      ],
      "metadata": {
        "colab": {
          "base_uri": "https://localhost:8080/"
        },
        "id": "g31zAX3dtEZZ",
        "outputId": "cd4460b9-d894-4574-e1cb-35ce0c870e13"
      },
      "execution_count": 67,
      "outputs": [
        {
          "output_type": "execute_result",
          "data": {
            "text/plain": [
              "(array([ 2.,  3.,  4.,  5.,  6.,  7.,  8.,  9., 10.]),\n",
              " tensor([1., 2., 3., 4., 5., 6., 7., 8., 9.], dtype=torch.float64))"
            ]
          },
          "metadata": {},
          "execution_count": 67
        }
      ]
    },
    {
      "cell_type": "code",
      "source": [
        "# PyTorch tensor to NumPy array\n",
        "tensor = torch.ones(5) # default dtype=float32\n",
        "tensor_to_numpy = tensor.numpy() #torch default dtype assigned to numpy\n",
        "tensor, tensor.dtype, tensor_to_numpy"
      ],
      "metadata": {
        "colab": {
          "base_uri": "https://localhost:8080/"
        },
        "id": "jqbd6JaZt74H",
        "outputId": "20259a66-df3a-476d-b77c-259efdf75d1c"
      },
      "execution_count": 71,
      "outputs": [
        {
          "output_type": "execute_result",
          "data": {
            "text/plain": [
              "(tensor([1., 1., 1., 1., 1.]),\n",
              " torch.float32,\n",
              " array([1., 1., 1., 1., 1.], dtype=float32))"
            ]
          },
          "metadata": {},
          "execution_count": 71
        }
      ]
    },
    {
      "cell_type": "markdown",
      "source": [
        "## **Reproducibility (trying to take the random out of random)**\n",
        "To perform repeatable experiments.\n",
        "I can create an algorithm capable of achieving X performance. Another person tries it out to verify and want to achieve same X performance. Here **reproducibility** comes in."
      ],
      "metadata": {
        "id": "6tWkqAzYwfsQ"
      }
    },
    {
      "cell_type": "code",
      "source": [
        "#create two random tensors\n",
        "tensor_random_A = torch.rand(3,4)\n",
        "tensor_random_B = torch.rand(3,4)\n",
        "print(tensor_random_A)\n",
        "print(tensor_random_B)\n",
        "print(f\"If tensors are equal: \\n {tensor_random_A == tensor_random_B}\")"
      ],
      "metadata": {
        "colab": {
          "base_uri": "https://localhost:8080/"
        },
        "id": "nf147mUbwfWw",
        "outputId": "06736eaf-84ac-4c3e-8f6c-a6f0363b9486"
      },
      "execution_count": 74,
      "outputs": [
        {
          "output_type": "stream",
          "name": "stdout",
          "text": [
            "tensor([[0.1737, 0.1824, 0.4700, 0.4305],\n",
            "        [0.8259, 0.7654, 0.3560, 0.9769],\n",
            "        [0.6967, 0.0978, 0.3476, 0.0354]])\n",
            "tensor([[0.1147, 0.0996, 0.6638, 0.4815],\n",
            "        [0.0648, 0.7304, 0.0379, 0.3559],\n",
            "        [0.1187, 0.8653, 0.2511, 0.4076]])\n",
            "If tensors are equal: \n",
            " tensor([[False, False, False, False],\n",
            "        [False, False, False, False],\n",
            "        [False, False, False, False]])\n"
          ]
        }
      ]
    }
  ]
}