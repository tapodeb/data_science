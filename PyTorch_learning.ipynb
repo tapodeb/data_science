{
  "nbformat": 4,
  "nbformat_minor": 0,
  "metadata": {
    "colab": {
      "provenance": [],
      "gpuType": "T4",
      "collapsed_sections": [
        "CEFZ7VBL1EQL",
        "AEKo-IDxlYLp",
        "SNUQqx21NWaX",
        "cndA63sPgaQ3",
        "7-1w1hTo3NS6",
        "8RJE_Ln5D5R5",
        "OFdMuFfVk91O",
        "6tWkqAzYwfsQ",
        "vn0k6Hqpo3Zs"
      ],
      "toc_visible": true,
      "authorship_tag": "ABX9TyPWB+w//IyVCSWqJVSi1MM4",
      "include_colab_link": true
    },
    "kernelspec": {
      "name": "python3",
      "display_name": "Python 3"
    },
    "language_info": {
      "name": "python"
    },
    "accelerator": "GPU"
  },
  "cells": [
    {
      "cell_type": "markdown",
      "metadata": {
        "id": "view-in-github",
        "colab_type": "text"
      },
      "source": [
        "<a href=\"https://colab.research.google.com/github/tapodeb/data_science/blob/main/PyTorch_learning.ipynb\" target=\"_parent\"><img src=\"https://colab.research.google.com/assets/colab-badge.svg\" alt=\"Open In Colab\"/></a>"
      ]
    },
    {
      "cell_type": "markdown",
      "source": [
        "# **PyTorch Fundamentals**"
      ],
      "metadata": {
        "id": "CEFZ7VBL1EQL"
      }
    },
    {
      "cell_type": "markdown",
      "source": [
        "## **Introduction to Tensors**\n",
        "1. Scalar\n",
        "2. Vector\n",
        "3. Matrix\n",
        "\n",
        "Initialization using random, arange, zeros, ones, eyes\n",
        "\n",
        "Basic Operations"
      ],
      "metadata": {
        "id": "AEKo-IDxlYLp"
      }
    },
    {
      "cell_type": "code",
      "source": [
        "import torch\n",
        "import pandas as pd\n",
        "import numpy as np\n",
        "import matplotlib.pyplot as plt\n",
        "\n",
        "print (torch.__version__)"
      ],
      "metadata": {
        "colab": {
          "base_uri": "https://localhost:8080/"
        },
        "id": "eV4kkVeP2l7q",
        "outputId": "99df29c2-5207-410d-d16c-29291ad851fb"
      },
      "execution_count": 5,
      "outputs": [
        {
          "output_type": "stream",
          "name": "stdout",
          "text": [
            "2.0.1+cu118\n"
          ]
        }
      ]
    },
    {
      "cell_type": "code",
      "source": [
        "#scalar\n",
        "scalar = torch.tensor(7)\n",
        "scalar"
      ],
      "metadata": {
        "colab": {
          "base_uri": "https://localhost:8080/"
        },
        "id": "NiRdyAAy70wg",
        "outputId": "92af3e93-d9dc-4146-a3b5-496abd6dadf9"
      },
      "execution_count": 6,
      "outputs": [
        {
          "output_type": "execute_result",
          "data": {
            "text/plain": [
              "tensor(7)"
            ]
          },
          "metadata": {},
          "execution_count": 6
        }
      ]
    },
    {
      "cell_type": "code",
      "source": [
        "#check the dimensions of a tensor using the ndim attribute\n",
        "scalar.ndim"
      ],
      "metadata": {
        "colab": {
          "base_uri": "https://localhost:8080/"
        },
        "id": "PWJcxg4I8uh_",
        "outputId": "5893b5d1-570b-470c-c913-f16e2cc9d433"
      },
      "execution_count": 7,
      "outputs": [
        {
          "output_type": "execute_result",
          "data": {
            "text/plain": [
              "0"
            ]
          },
          "metadata": {},
          "execution_count": 7
        }
      ]
    },
    {
      "cell_type": "code",
      "source": [
        "#retrieve the number from the tensor OR turn it from torch.Tensor to a Python integer\n",
        "scalar.item()"
      ],
      "metadata": {
        "colab": {
          "base_uri": "https://localhost:8080/"
        },
        "id": "0wCxofYv80u1",
        "outputId": "0ecd76f7-dfde-43b8-8095-a994f5d1d747"
      },
      "execution_count": 8,
      "outputs": [
        {
          "output_type": "execute_result",
          "data": {
            "text/plain": [
              "7"
            ]
          },
          "metadata": {},
          "execution_count": 8
        }
      ]
    },
    {
      "cell_type": "code",
      "source": [
        "#vector\n",
        "vector = torch.tensor([2,3])\n",
        "vector"
      ],
      "metadata": {
        "colab": {
          "base_uri": "https://localhost:8080/"
        },
        "id": "7OWE4Pc58-xN",
        "outputId": "1bc9aa42-eb7f-4f67-a5a7-ec97f1c6111c"
      },
      "execution_count": 9,
      "outputs": [
        {
          "output_type": "execute_result",
          "data": {
            "text/plain": [
              "tensor([2, 3])"
            ]
          },
          "metadata": {},
          "execution_count": 9
        }
      ]
    },
    {
      "cell_type": "code",
      "source": [
        "# Check the number of dimensions of vector\n",
        "vector.ndim"
      ],
      "metadata": {
        "colab": {
          "base_uri": "https://localhost:8080/"
        },
        "id": "D6_jiBz-9vw4",
        "outputId": "444ea7bc-4031-4231-80cd-05f0ea6a8060"
      },
      "execution_count": 10,
      "outputs": [
        {
          "output_type": "execute_result",
          "data": {
            "text/plain": [
              "1"
            ]
          },
          "metadata": {},
          "execution_count": 10
        }
      ]
    },
    {
      "cell_type": "code",
      "source": [
        "#shape defines how the tensor elements are arranged\n",
        "vector.shape"
      ],
      "metadata": {
        "colab": {
          "base_uri": "https://localhost:8080/"
        },
        "id": "1yB_BDRY911F",
        "outputId": "4f25adfa-81ea-4424-d85e-1c37d02f0769"
      },
      "execution_count": 11,
      "outputs": [
        {
          "output_type": "execute_result",
          "data": {
            "text/plain": [
              "torch.Size([2])"
            ]
          },
          "metadata": {},
          "execution_count": 11
        }
      ]
    },
    {
      "cell_type": "code",
      "source": [
        "#Matrix\n",
        "MATRIX = torch.tensor([[1,2,3],[4,5,6]])\n",
        "MATRIX"
      ],
      "metadata": {
        "colab": {
          "base_uri": "https://localhost:8080/"
        },
        "id": "HbpAIEJU-chH",
        "outputId": "1e596390-92a5-4afb-da7a-dbf5c930da07"
      },
      "execution_count": 12,
      "outputs": [
        {
          "output_type": "execute_result",
          "data": {
            "text/plain": [
              "tensor([[1, 2, 3],\n",
              "        [4, 5, 6]])"
            ]
          },
          "metadata": {},
          "execution_count": 12
        }
      ]
    },
    {
      "cell_type": "code",
      "source": [
        "MATRIX.ndim"
      ],
      "metadata": {
        "colab": {
          "base_uri": "https://localhost:8080/"
        },
        "id": "aJrmRjCg-t1l",
        "outputId": "de3727b9-30ef-4e6d-b97d-653e39c207c4"
      },
      "execution_count": 13,
      "outputs": [
        {
          "output_type": "execute_result",
          "data": {
            "text/plain": [
              "2"
            ]
          },
          "metadata": {},
          "execution_count": 13
        }
      ]
    },
    {
      "cell_type": "code",
      "source": [
        "MATRIX.shape"
      ],
      "metadata": {
        "colab": {
          "base_uri": "https://localhost:8080/"
        },
        "id": "bMJbXaWh-w0N",
        "outputId": "83708fb2-be54-400f-957c-e54659d9e361"
      },
      "execution_count": 14,
      "outputs": [
        {
          "output_type": "execute_result",
          "data": {
            "text/plain": [
              "torch.Size([2, 3])"
            ]
          },
          "metadata": {},
          "execution_count": 14
        }
      ]
    },
    {
      "cell_type": "code",
      "source": [
        "#index\n",
        "MATRIX[0]"
      ],
      "metadata": {
        "colab": {
          "base_uri": "https://localhost:8080/"
        },
        "id": "tSbdV6OV-1PC",
        "outputId": "5eb6b73f-86ad-4526-8bdc-91ef32d87ad7"
      },
      "execution_count": 15,
      "outputs": [
        {
          "output_type": "execute_result",
          "data": {
            "text/plain": [
              "tensor([1, 2, 3])"
            ]
          },
          "metadata": {},
          "execution_count": 15
        }
      ]
    },
    {
      "cell_type": "code",
      "source": [
        "#check the tensor dimensions by changing the number of [] brackets\n",
        "TENSOR = torch.tensor([[[1,2,3],\n",
        "                        [3,4,5],\n",
        "                        [6,7,9]]])\n",
        "print (TENSOR)\n",
        "TENSOR.shape"
      ],
      "metadata": {
        "colab": {
          "base_uri": "https://localhost:8080/"
        },
        "id": "O28QKcEXAY9I",
        "outputId": "96623228-a694-462c-e837-3eb36bda03ee"
      },
      "execution_count": 16,
      "outputs": [
        {
          "output_type": "stream",
          "name": "stdout",
          "text": [
            "tensor([[[1, 2, 3],\n",
            "         [3, 4, 5],\n",
            "         [6, 7, 9]]])\n"
          ]
        },
        {
          "output_type": "execute_result",
          "data": {
            "text/plain": [
              "torch.Size([1, 3, 3])"
            ]
          },
          "metadata": {},
          "execution_count": 16
        }
      ]
    },
    {
      "cell_type": "code",
      "source": [
        "#random tensor\n",
        "random_tensor = torch.rand(3, 4)\n",
        "random_tensor"
      ],
      "metadata": {
        "colab": {
          "base_uri": "https://localhost:8080/"
        },
        "id": "cZfIYY9bVSnT",
        "outputId": "addbe0fb-e79d-4404-c791-29ce87a6cdb2"
      },
      "execution_count": 17,
      "outputs": [
        {
          "output_type": "execute_result",
          "data": {
            "text/plain": [
              "tensor([[0.4643, 0.0321, 0.9032, 0.1855],\n",
              "        [0.7591, 0.7735, 0.7520, 0.9712],\n",
              "        [0.2291, 0.1037, 0.2223, 0.2082]])"
            ]
          },
          "metadata": {},
          "execution_count": 17
        }
      ]
    },
    {
      "cell_type": "code",
      "source": [
        "#tensor of zeros\n",
        "zeros = torch.zeros(2,5)\n",
        "zeros"
      ],
      "metadata": {
        "colab": {
          "base_uri": "https://localhost:8080/"
        },
        "id": "Q3FMtPaFWUx0",
        "outputId": "fc912723-0566-42b1-c775-2ffc112236de"
      },
      "execution_count": 18,
      "outputs": [
        {
          "output_type": "execute_result",
          "data": {
            "text/plain": [
              "tensor([[0., 0., 0., 0., 0.],\n",
              "        [0., 0., 0., 0., 0.]])"
            ]
          },
          "metadata": {},
          "execution_count": 18
        }
      ]
    },
    {
      "cell_type": "code",
      "source": [
        "#tensor of ones\n",
        "ones = torch.ones(3,4)\n",
        "ones"
      ],
      "metadata": {
        "colab": {
          "base_uri": "https://localhost:8080/"
        },
        "id": "NVMu3JL3YFgZ",
        "outputId": "f45f0511-537f-4873-aebf-b8e529d39ac5"
      },
      "execution_count": 19,
      "outputs": [
        {
          "output_type": "execute_result",
          "data": {
            "text/plain": [
              "tensor([[1., 1., 1., 1.],\n",
              "        [1., 1., 1., 1.],\n",
              "        [1., 1., 1., 1.]])"
            ]
          },
          "metadata": {},
          "execution_count": 19
        }
      ]
    },
    {
      "cell_type": "code",
      "source": [
        "#identity matrix\n",
        "I_s = torch.eye(3,5)\n",
        "I_s"
      ],
      "metadata": {
        "colab": {
          "base_uri": "https://localhost:8080/"
        },
        "id": "1D6PYmzLasrb",
        "outputId": "790f2471-f45e-43df-d993-e65c4b96fda9"
      },
      "execution_count": 20,
      "outputs": [
        {
          "output_type": "execute_result",
          "data": {
            "text/plain": [
              "tensor([[1., 0., 0., 0., 0.],\n",
              "        [0., 1., 0., 0., 0.],\n",
              "        [0., 0., 1., 0., 0.]])"
            ]
          },
          "metadata": {},
          "execution_count": 20
        }
      ]
    },
    {
      "cell_type": "code",
      "source": [
        "#reset values\n",
        "random_tensor = torch.rand(3, 4)\n",
        "print (random_tensor)\n",
        "zeros = torch.zeros(1)\n",
        "print(zeros)\n",
        "random_tensor*zeros"
      ],
      "metadata": {
        "colab": {
          "base_uri": "https://localhost:8080/"
        },
        "id": "UxshEX03YZOv",
        "outputId": "3153287c-e192-4fef-f5a5-7ec3ebff9353"
      },
      "execution_count": 21,
      "outputs": [
        {
          "output_type": "stream",
          "name": "stdout",
          "text": [
            "tensor([[0.4956, 0.3688, 0.1195, 0.0516],\n",
            "        [0.4798, 0.8699, 0.9699, 0.1989],\n",
            "        [0.2908, 0.4538, 0.9876, 0.7329]])\n",
            "tensor([0.])\n"
          ]
        },
        {
          "output_type": "execute_result",
          "data": {
            "text/plain": [
              "tensor([[0., 0., 0., 0.],\n",
              "        [0., 0., 0., 0.],\n",
              "        [0., 0., 0., 0.]])"
            ]
          },
          "metadata": {},
          "execution_count": 21
        }
      ]
    },
    {
      "cell_type": "code",
      "source": [
        "#Range\n",
        "torch.range(1,10)"
      ],
      "metadata": {
        "colab": {
          "base_uri": "https://localhost:8080/"
        },
        "id": "eATu4v3KbJaZ",
        "outputId": "33006bd3-d91f-4f6a-9170-f0cd636de69b"
      },
      "execution_count": 22,
      "outputs": [
        {
          "output_type": "stream",
          "name": "stderr",
          "text": [
            "<ipython-input-22-3785c09540d6>:2: UserWarning: torch.range is deprecated and will be removed in a future release because its behavior is inconsistent with Python's range builtin. Instead, use torch.arange, which produces values in [start, end).\n",
            "  torch.range(1,10)\n"
          ]
        },
        {
          "output_type": "execute_result",
          "data": {
            "text/plain": [
              "tensor([ 1.,  2.,  3.,  4.,  5.,  6.,  7.,  8.,  9., 10.])"
            ]
          },
          "metadata": {},
          "execution_count": 22
        }
      ]
    },
    {
      "cell_type": "code",
      "source": [
        "#As torch.range might get removed in future - check previous warning, use this\n",
        "torch.arange(1,10)"
      ],
      "metadata": {
        "colab": {
          "base_uri": "https://localhost:8080/"
        },
        "id": "2sZG6cczb-my",
        "outputId": "cd6291e2-350d-4037-9ca1-b9e98e054cbd"
      },
      "execution_count": 23,
      "outputs": [
        {
          "output_type": "execute_result",
          "data": {
            "text/plain": [
              "tensor([1, 2, 3, 4, 5, 6, 7, 8, 9])"
            ]
          },
          "metadata": {},
          "execution_count": 23
        }
      ]
    },
    {
      "cell_type": "code",
      "source": [
        "#craeting tensor of same shape\n",
        "one_to_ten = torch.arange(start=1, end =11, step=1)\n",
        "print(one_to_ten)\n",
        "ten_zeros = torch.zeros_like(input=one_to_ten)\n",
        "ten_zeros"
      ],
      "metadata": {
        "colab": {
          "base_uri": "https://localhost:8080/"
        },
        "id": "kSzhMkEWdrKk",
        "outputId": "be827bfc-c2d5-4015-d0eb-655184ed701e"
      },
      "execution_count": 24,
      "outputs": [
        {
          "output_type": "stream",
          "name": "stdout",
          "text": [
            "tensor([ 1,  2,  3,  4,  5,  6,  7,  8,  9, 10])\n"
          ]
        },
        {
          "output_type": "execute_result",
          "data": {
            "text/plain": [
              "tensor([0, 0, 0, 0, 0, 0, 0, 0, 0, 0])"
            ]
          },
          "metadata": {},
          "execution_count": 24
        }
      ]
    },
    {
      "cell_type": "markdown",
      "source": [
        "## **Data Type**\n",
        "https://pytorch.org/docs/stable/tensors.html"
      ],
      "metadata": {
        "id": "SNUQqx21NWaX"
      }
    },
    {
      "cell_type": "code",
      "source": [
        "#tensor datatype and attributes\n",
        "# Default datatype for tensors is float32\n",
        "float_32_tensor = torch.tensor([3.0, 6.0, 9.0],\n",
        "                               dtype=None, # defaults to None, which is torch.float32 or whatever datatype is passed\n",
        "                               device=None, # defaults to None, which uses the default tensor type\n",
        "                               requires_grad=False) # if True, operations performed on the tensor are recorded \n",
        "\n",
        "float_32_tensor.shape, float_32_tensor.dtype, float_32_tensor.device\n"
      ],
      "metadata": {
        "colab": {
          "base_uri": "https://localhost:8080/"
        },
        "id": "qk5_qKv1m03V",
        "outputId": "4bf4959f-c431-4523-8997-6d2be83c5984"
      },
      "execution_count": 25,
      "outputs": [
        {
          "output_type": "execute_result",
          "data": {
            "text/plain": [
              "(torch.Size([3]), torch.float32, device(type='cpu'))"
            ]
          },
          "metadata": {},
          "execution_count": 25
        }
      ]
    },
    {
      "cell_type": "code",
      "source": [
        "# torch.half: half precion than default float32\n",
        "float_16_tensor = torch.tensor([3.0,6.0,9.0], dtype=torch.float16) #dtype=torch.half also work\n",
        "float_16_tensor, float_16_tensor.dtype"
      ],
      "metadata": {
        "colab": {
          "base_uri": "https://localhost:8080/"
        },
        "id": "cVrvup2a10bz",
        "outputId": "25a4cfa6-e9fe-46d7-a204-2695a96952ac"
      },
      "execution_count": 26,
      "outputs": [
        {
          "output_type": "execute_result",
          "data": {
            "text/plain": [
              "(tensor([3., 6., 9.], dtype=torch.float16), torch.float16)"
            ]
          },
          "metadata": {},
          "execution_count": 26
        }
      ]
    },
    {
      "cell_type": "code",
      "source": [
        "# torch.double: double precion than default float32\n",
        "float_64_tensor = torch.tensor([3.0,6.0,9.0], dtype=torch.float64) #dtype=torch.double also work\n",
        "float_64_tensor, float_64_tensor.dtype"
      ],
      "metadata": {
        "colab": {
          "base_uri": "https://localhost:8080/"
        },
        "id": "FmOG0DTLL6LS",
        "outputId": "1be09e4c-08b3-4445-d7de-b15301087880"
      },
      "execution_count": 27,
      "outputs": [
        {
          "output_type": "execute_result",
          "data": {
            "text/plain": [
              "(tensor([3., 6., 9.], dtype=torch.float64), torch.float64)"
            ]
          },
          "metadata": {},
          "execution_count": 27
        }
      ]
    },
    {
      "cell_type": "code",
      "source": [
        "#results to the higher precision data type in a calculation \n",
        "tensor_mult_1 = float_32_tensor*float_16_tensor\n",
        "tensor_mult_2 = float_32_tensor*float_64_tensor\n",
        "tensor_mult_1.dtype, tensor_mult_2.dtype"
      ],
      "metadata": {
        "colab": {
          "base_uri": "https://localhost:8080/"
        },
        "id": "FFaQPAofLIr9",
        "outputId": "d9462152-e0b0-45d1-8190-ad76ba735fd8"
      },
      "execution_count": 28,
      "outputs": [
        {
          "output_type": "execute_result",
          "data": {
            "text/plain": [
              "(torch.float32, torch.float64)"
            ]
          },
          "metadata": {},
          "execution_count": 28
        }
      ]
    },
    {
      "cell_type": "code",
      "source": [
        "tensor_add_1 = float_32_tensor+float_16_tensor\n",
        "tensor_add_2 = float_32_tensor+float_64_tensor\n",
        "tensor_add_1.dtype, tensor_add_2.dtype"
      ],
      "metadata": {
        "colab": {
          "base_uri": "https://localhost:8080/"
        },
        "id": "BwYGq68PMtng",
        "outputId": "80fc32d5-8794-4b65-9f65-f8eb80924e33"
      },
      "execution_count": 29,
      "outputs": [
        {
          "output_type": "execute_result",
          "data": {
            "text/plain": [
              "(torch.float32, torch.float64)"
            ]
          },
          "metadata": {},
          "execution_count": 29
        }
      ]
    },
    {
      "cell_type": "markdown",
      "source": [
        "## **Math Operations**\n",
        "Site: https://www.mathsisfun.com/algebra/matrix-multiplying.html\n",
        "\n",
        "Calculator: https://www.mathsisfun.com/algebra/matrix-calculator.html\n",
        "\n",
        "Another visual calculator: http://matrixmultiplication.xyz/"
      ],
      "metadata": {
        "id": "cndA63sPgaQ3"
      }
    },
    {
      "cell_type": "code",
      "source": [
        "# basic math operation\n",
        "tensor = torch.tensor([1,2,3])\n",
        "tensor * 10, tensor + 10, tensor - 10, tensor / 10, tensor / 0"
      ],
      "metadata": {
        "colab": {
          "base_uri": "https://localhost:8080/"
        },
        "id": "Bj_bGYKXPcOX",
        "outputId": "be550197-304b-41ff-d4af-6cc08714d13d"
      },
      "execution_count": 30,
      "outputs": [
        {
          "output_type": "execute_result",
          "data": {
            "text/plain": [
              "(tensor([10, 20, 30]),\n",
              " tensor([11, 12, 13]),\n",
              " tensor([-9, -8, -7]),\n",
              " tensor([0.1000, 0.2000, 0.3000]),\n",
              " tensor([inf, inf, inf]))"
            ]
          },
          "metadata": {},
          "execution_count": 30
        }
      ]
    },
    {
      "cell_type": "code",
      "source": [
        "# matrix multiplication and dot product\n",
        "print(f\"element-wise multiplication: {tensor} * {tensor} = {tensor * tensor}\")\n",
        "print(f\"dot product: torch.matmul(tensor, tensor) = {torch.matmul(tensor, tensor)}\")"
      ],
      "metadata": {
        "colab": {
          "base_uri": "https://localhost:8080/"
        },
        "id": "txOAXIarW07R",
        "outputId": "fe9005ba-c2a4-4e1e-ddd8-6ebbbeefb161"
      },
      "execution_count": 31,
      "outputs": [
        {
          "output_type": "stream",
          "name": "stdout",
          "text": [
            "element-wise multiplication: tensor([1, 2, 3]) * tensor([1, 2, 3]) = tensor([1, 4, 9])\n",
            "dot product: torch.matmul(tensor, tensor) = 14\n"
          ]
        }
      ]
    },
    {
      "cell_type": "code",
      "source": [
        "# In math matrix dot operation is represted as (1,2,3).(1,2,3)\n",
        "# Above will be solved as \n",
        "1*1 + 2*2 + 3*3 "
      ],
      "metadata": {
        "colab": {
          "base_uri": "https://localhost:8080/"
        },
        "id": "-dj9c6-CZpcE",
        "outputId": "78a06c00-5c85-43cd-8e88-0576e96fc43a"
      },
      "execution_count": 32,
      "outputs": [
        {
          "output_type": "execute_result",
          "data": {
            "text/plain": [
              "14"
            ]
          },
          "metadata": {},
          "execution_count": 32
        }
      ]
    },
    {
      "cell_type": "code",
      "source": [
        "# above math can be performed in a python for loop, \n",
        "# it gets more complex as the matrix shape increases\n",
        "%%time\n",
        "value = 0\n",
        "for i in range(len(tensor)):\n",
        "  value += tensor[i]+tensor[i]\n",
        "print(value)"
      ],
      "metadata": {
        "colab": {
          "base_uri": "https://localhost:8080/"
        },
        "id": "u_FpniwXcgze",
        "outputId": "a3511f13-e314-4671-a622-fc8d3067a673"
      },
      "execution_count": 33,
      "outputs": [
        {
          "output_type": "stream",
          "name": "stdout",
          "text": [
            "tensor(12)\n",
            "CPU times: user 381 µs, sys: 0 ns, total: 381 µs\n",
            "Wall time: 389 µs\n"
          ]
        }
      ]
    },
    {
      "cell_type": "code",
      "source": [
        "#using torch is much faster, simple code\n",
        "%%time\n",
        "torch.matmul(tensor, tensor)"
      ],
      "metadata": {
        "colab": {
          "base_uri": "https://localhost:8080/"
        },
        "id": "SE6qmLBZdFmj",
        "outputId": "2f4530a7-0cb8-4867-ec6c-f31fa9470b2a"
      },
      "execution_count": 34,
      "outputs": [
        {
          "output_type": "stream",
          "name": "stdout",
          "text": [
            "CPU times: user 41 µs, sys: 0 ns, total: 41 µs\n",
            "Wall time: 44.1 µs\n"
          ]
        },
        {
          "output_type": "execute_result",
          "data": {
            "text/plain": [
              "tensor(14)"
            ]
          },
          "metadata": {},
          "execution_count": 34
        }
      ]
    },
    {
      "cell_type": "code",
      "source": [
        "#Tensor aggregation: min, max, mean, sum\n",
        "x = torch.arange(0,10,1)\n",
        "x, x.dtype"
      ],
      "metadata": {
        "colab": {
          "base_uri": "https://localhost:8080/"
        },
        "id": "R7tM8o0GndgO",
        "outputId": "5254c5d3-331d-4dee-843e-067e08a77503"
      },
      "execution_count": 35,
      "outputs": [
        {
          "output_type": "execute_result",
          "data": {
            "text/plain": [
              "(tensor([0, 1, 2, 3, 4, 5, 6, 7, 8, 9]), torch.int64)"
            ]
          },
          "metadata": {},
          "execution_count": 35
        }
      ]
    },
    {
      "cell_type": "code",
      "source": [
        "# Find minimum\n",
        "torch.min(x), x.min()"
      ],
      "metadata": {
        "colab": {
          "base_uri": "https://localhost:8080/"
        },
        "id": "f8fO9nghs72Q",
        "outputId": "408f5ee2-c5fb-41bd-cfba-d079cbb8e121"
      },
      "execution_count": 36,
      "outputs": [
        {
          "output_type": "execute_result",
          "data": {
            "text/plain": [
              "(tensor(0), tensor(0))"
            ]
          },
          "metadata": {},
          "execution_count": 36
        }
      ]
    },
    {
      "cell_type": "code",
      "source": [
        "# Find maximum\n",
        "torch.max(x), x.max()"
      ],
      "metadata": {
        "colab": {
          "base_uri": "https://localhost:8080/"
        },
        "id": "E35opmQytPj3",
        "outputId": "76c9b25e-d32d-4228-9a3a-dfedc3957f53"
      },
      "execution_count": 37,
      "outputs": [
        {
          "output_type": "execute_result",
          "data": {
            "text/plain": [
              "(tensor(9), tensor(9))"
            ]
          },
          "metadata": {},
          "execution_count": 37
        }
      ]
    },
    {
      "cell_type": "code",
      "source": [
        "# Find mean\n",
        "# torch.mean(x), x.mean() # can only work on float\n",
        "torch.mean(x.type(torch.float32)), x.type(torch.float32).mean()"
      ],
      "metadata": {
        "colab": {
          "base_uri": "https://localhost:8080/"
        },
        "id": "jt5FApHJtibv",
        "outputId": "e681ea0b-8a09-444d-8ac0-c729ff0ccbed"
      },
      "execution_count": 38,
      "outputs": [
        {
          "output_type": "execute_result",
          "data": {
            "text/plain": [
              "(tensor(4.5000), tensor(4.5000))"
            ]
          },
          "metadata": {},
          "execution_count": 38
        }
      ]
    },
    {
      "cell_type": "code",
      "source": [
        "# Summation\n",
        "torch.sum(x), x.sum()"
      ],
      "metadata": {
        "colab": {
          "base_uri": "https://localhost:8080/"
        },
        "id": "OteTszyAwqn2",
        "outputId": "d3373ef5-010e-479b-def1-4778a67e246d"
      },
      "execution_count": 39,
      "outputs": [
        {
          "output_type": "execute_result",
          "data": {
            "text/plain": [
              "(tensor(45), tensor(45))"
            ]
          },
          "metadata": {},
          "execution_count": 39
        }
      ]
    },
    {
      "cell_type": "code",
      "source": [
        "# Retrieve min, max value position / index\n",
        "torch.argmin(x), torch.argmax(x)"
      ],
      "metadata": {
        "colab": {
          "base_uri": "https://localhost:8080/"
        },
        "id": "haO3BfVdxvWD",
        "outputId": "e156d215-d2e6-48c9-ef42-628805fcbcab"
      },
      "execution_count": 40,
      "outputs": [
        {
          "output_type": "execute_result",
          "data": {
            "text/plain": [
              "(tensor(0), tensor(9))"
            ]
          },
          "metadata": {},
          "execution_count": 40
        }
      ]
    },
    {
      "cell_type": "code",
      "source": [
        "# Matrix multiplication rules\n",
        "# 1. Inner diemnsions must match\n",
        "# 2. Outer dimentions decides the resulting matrix shape\n",
        "tensor_shape_1 = torch.rand(3,4)\n",
        "tensor_shape_2 = torch.rand(4,5)\n",
        "# torch.matmul is same as torch.mm\n",
        "torch.mm(tensor_shape_1, tensor_shape_2)"
      ],
      "metadata": {
        "colab": {
          "base_uri": "https://localhost:8080/"
        },
        "id": "ufJ-xu_tj63G",
        "outputId": "29cd3ba6-c1e3-4bf8-fe85-a59def5dcd7d"
      },
      "execution_count": 41,
      "outputs": [
        {
          "output_type": "execute_result",
          "data": {
            "text/plain": [
              "tensor([[1.7045, 1.4479, 1.0388, 1.1209, 1.6421],\n",
              "        [1.2898, 1.3104, 0.8120, 0.5783, 1.1654],\n",
              "        [1.5198, 1.2316, 1.3390, 1.4564, 1.7628]])"
            ]
          },
          "metadata": {},
          "execution_count": 41
        }
      ]
    },
    {
      "cell_type": "markdown",
      "source": [
        "## **Matrix reshaping or mutation**\n",
        "\n",
        "\n",
        "1. Transpose\n",
        "2. Reshaping\n",
        "3. stacking\n",
        "4. squeezing\n",
        "5. unsqueezing\n",
        "6. Permuting\n"
      ],
      "metadata": {
        "id": "7-1w1hTo3NS6"
      }
    },
    {
      "cell_type": "code",
      "source": [
        "# tensor initial form\n",
        "print (tensor_shape_1, tensor_shape_1.shape)\n",
        "# tensor transpose\n",
        "print (tensor_shape_1.T, tensor_shape_1.T.shape)"
      ],
      "metadata": {
        "colab": {
          "base_uri": "https://localhost:8080/"
        },
        "id": "wbdmv9EMmxTA",
        "outputId": "d6cafe82-8b82-450d-9d89-da8232c86ce9"
      },
      "execution_count": 42,
      "outputs": [
        {
          "output_type": "stream",
          "name": "stdout",
          "text": [
            "tensor([[0.1728, 0.8116, 0.8333, 0.6456],\n",
            "        [0.1269, 0.7847, 0.7352, 0.0185],\n",
            "        [0.7520, 0.9248, 0.4240, 0.4598]]) torch.Size([3, 4])\n",
            "tensor([[0.1728, 0.1269, 0.7520],\n",
            "        [0.8116, 0.7847, 0.9248],\n",
            "        [0.8333, 0.7352, 0.4240],\n",
            "        [0.6456, 0.0185, 0.4598]]) torch.Size([4, 3])\n"
          ]
        }
      ]
    },
    {
      "cell_type": "code",
      "source": [
        "# Reshape input (if compatible with torch size)\n",
        "# tensor items stays same\n",
        "tensor_reshape_1 = tensor_shape_1.reshape(6,2)\n",
        "tensor_shape_1, tensor_reshape_1, tensor_reshape_1.shape"
      ],
      "metadata": {
        "colab": {
          "base_uri": "https://localhost:8080/"
        },
        "id": "5sj6-MJu2iGz",
        "outputId": "1e76998e-f671-484b-899e-5d955c147936"
      },
      "execution_count": 43,
      "outputs": [
        {
          "output_type": "execute_result",
          "data": {
            "text/plain": [
              "(tensor([[0.1728, 0.8116, 0.8333, 0.6456],\n",
              "         [0.1269, 0.7847, 0.7352, 0.0185],\n",
              "         [0.7520, 0.9248, 0.4240, 0.4598]]),\n",
              " tensor([[0.1728, 0.8116],\n",
              "         [0.8333, 0.6456],\n",
              "         [0.1269, 0.7847],\n",
              "         [0.7352, 0.0185],\n",
              "         [0.7520, 0.9248],\n",
              "         [0.4240, 0.4598]]),\n",
              " torch.Size([6, 2]))"
            ]
          },
          "metadata": {},
          "execution_count": 43
        }
      ]
    },
    {
      "cell_type": "code",
      "source": [
        "# View of the original tensor in a different / same shape \n",
        "# tensor items stays same\n",
        "# but shares the same memmory\n",
        "x = tensor_shape_1.view(2,6)\n",
        "x, x.shape"
      ],
      "metadata": {
        "colab": {
          "base_uri": "https://localhost:8080/"
        },
        "id": "4emaYNr56RL3",
        "outputId": "b0507061-6fdb-4851-8fc4-52f17844550b"
      },
      "execution_count": 44,
      "outputs": [
        {
          "output_type": "execute_result",
          "data": {
            "text/plain": [
              "(tensor([[0.1728, 0.8116, 0.8333, 0.6456, 0.1269, 0.7847],\n",
              "         [0.7352, 0.0185, 0.7520, 0.9248, 0.4240, 0.4598]]),\n",
              " torch.Size([2, 6]))"
            ]
          },
          "metadata": {},
          "execution_count": 44
        }
      ]
    },
    {
      "cell_type": "code",
      "source": [
        "# Stacking\n",
        "# Concatenates a sequence of tensors along a new dimension (dim)\n",
        "# stacked tensors must be of same size\n",
        "x_stacked = torch.stack([x,x,x,x])\n",
        "x_stacked, x_stacked.shape"
      ],
      "metadata": {
        "colab": {
          "base_uri": "https://localhost:8080/"
        },
        "id": "bvvohtQg8Cv_",
        "outputId": "1d51e7ba-efdd-4e4f-ad3f-c982044157e5"
      },
      "execution_count": 45,
      "outputs": [
        {
          "output_type": "execute_result",
          "data": {
            "text/plain": [
              "(tensor([[[0.1728, 0.8116, 0.8333, 0.6456, 0.1269, 0.7847],\n",
              "          [0.7352, 0.0185, 0.7520, 0.9248, 0.4240, 0.4598]],\n",
              " \n",
              "         [[0.1728, 0.8116, 0.8333, 0.6456, 0.1269, 0.7847],\n",
              "          [0.7352, 0.0185, 0.7520, 0.9248, 0.4240, 0.4598]],\n",
              " \n",
              "         [[0.1728, 0.8116, 0.8333, 0.6456, 0.1269, 0.7847],\n",
              "          [0.7352, 0.0185, 0.7520, 0.9248, 0.4240, 0.4598]],\n",
              " \n",
              "         [[0.1728, 0.8116, 0.8333, 0.6456, 0.1269, 0.7847],\n",
              "          [0.7352, 0.0185, 0.7520, 0.9248, 0.4240, 0.4598]]]),\n",
              " torch.Size([4, 2, 6]))"
            ]
          },
          "metadata": {},
          "execution_count": 45
        }
      ]
    },
    {
      "cell_type": "code",
      "source": [
        "# Stacking and change dimensions\n",
        "x_stacked = torch.stack([x,x,x,x], dim=-1)\n",
        "x_stacked, x_stacked.shape"
      ],
      "metadata": {
        "colab": {
          "base_uri": "https://localhost:8080/"
        },
        "id": "2KZKvneC-Sec",
        "outputId": "1d0383de-b36e-4288-9d55-019495de4407"
      },
      "execution_count": 46,
      "outputs": [
        {
          "output_type": "execute_result",
          "data": {
            "text/plain": [
              "(tensor([[[0.1728, 0.1728, 0.1728, 0.1728],\n",
              "          [0.8116, 0.8116, 0.8116, 0.8116],\n",
              "          [0.8333, 0.8333, 0.8333, 0.8333],\n",
              "          [0.6456, 0.6456, 0.6456, 0.6456],\n",
              "          [0.1269, 0.1269, 0.1269, 0.1269],\n",
              "          [0.7847, 0.7847, 0.7847, 0.7847]],\n",
              " \n",
              "         [[0.7352, 0.7352, 0.7352, 0.7352],\n",
              "          [0.0185, 0.0185, 0.0185, 0.0185],\n",
              "          [0.7520, 0.7520, 0.7520, 0.7520],\n",
              "          [0.9248, 0.9248, 0.9248, 0.9248],\n",
              "          [0.4240, 0.4240, 0.4240, 0.4240],\n",
              "          [0.4598, 0.4598, 0.4598, 0.4598]]]),\n",
              " torch.Size([2, 6, 4]))"
            ]
          },
          "metadata": {},
          "execution_count": 46
        }
      ]
    },
    {
      "cell_type": "code",
      "source": [
        "# Squeeze input to remove all the dimenions with value 1.\n",
        "x_squeeze = torch.squeeze(x_stacked)\n",
        "x_squeeze, x_squeeze.shape"
      ],
      "metadata": {
        "colab": {
          "base_uri": "https://localhost:8080/"
        },
        "id": "YR9p3taWAylt",
        "outputId": "3980c8f6-33d0-4745-f050-4fe11ed57fcf"
      },
      "execution_count": 47,
      "outputs": [
        {
          "output_type": "execute_result",
          "data": {
            "text/plain": [
              "(tensor([[[0.1728, 0.1728, 0.1728, 0.1728],\n",
              "          [0.8116, 0.8116, 0.8116, 0.8116],\n",
              "          [0.8333, 0.8333, 0.8333, 0.8333],\n",
              "          [0.6456, 0.6456, 0.6456, 0.6456],\n",
              "          [0.1269, 0.1269, 0.1269, 0.1269],\n",
              "          [0.7847, 0.7847, 0.7847, 0.7847]],\n",
              " \n",
              "         [[0.7352, 0.7352, 0.7352, 0.7352],\n",
              "          [0.0185, 0.0185, 0.0185, 0.0185],\n",
              "          [0.7520, 0.7520, 0.7520, 0.7520],\n",
              "          [0.9248, 0.9248, 0.9248, 0.9248],\n",
              "          [0.4240, 0.4240, 0.4240, 0.4240],\n",
              "          [0.4598, 0.4598, 0.4598, 0.4598]]]),\n",
              " torch.Size([2, 6, 4]))"
            ]
          },
          "metadata": {},
          "execution_count": 47
        }
      ]
    },
    {
      "cell_type": "code",
      "source": [
        "# Initializing tensor with extra 1-Dimesions for code validation\n",
        "x = torch.arange(1.,10)\n",
        "x_reshape = x.reshape(1,1,9)\n",
        "print (f\"Added 1-Dims: {x_reshape} \\n x_reshape.shape: {x_reshape.shape}\\n\")\n",
        "\n",
        "#squeeze\n",
        "x_squeeze = torch.squeeze(x_reshape)\n",
        "print (f\"Sqeezed tensor: {x_squeeze} \\n x_squeeze.shape {x_squeeze.shape}\")\n"
      ],
      "metadata": {
        "colab": {
          "base_uri": "https://localhost:8080/"
        },
        "id": "NFf7Kid-CnQz",
        "outputId": "5ac8e485-cd57-4918-8555-6c14ce57ae0d"
      },
      "execution_count": 48,
      "outputs": [
        {
          "output_type": "stream",
          "name": "stdout",
          "text": [
            "Added 1-Dims: tensor([[[1., 2., 3., 4., 5., 6., 7., 8., 9.]]]) \n",
            " x_reshape.shape: torch.Size([1, 1, 9])\n",
            "\n",
            "Sqeezed tensor: tensor([1., 2., 3., 4., 5., 6., 7., 8., 9.]) \n",
            " x_squeeze.shape torch.Size([9])\n"
          ]
        }
      ]
    },
    {
      "cell_type": "code",
      "source": [
        "#unsqueeze\n",
        "x_unsqueeze = x_squeeze.unsqueeze(dim=0)\n",
        "x_unsqueeze, x_unsqueeze.shape"
      ],
      "metadata": {
        "colab": {
          "base_uri": "https://localhost:8080/"
        },
        "id": "fJCb2OhEGqyS",
        "outputId": "6f2223d1-92ba-48b5-8c28-65c0b6148db6"
      },
      "execution_count": 49,
      "outputs": [
        {
          "output_type": "execute_result",
          "data": {
            "text/plain": [
              "(tensor([[1., 2., 3., 4., 5., 6., 7., 8., 9.]]), torch.Size([1, 9]))"
            ]
          },
          "metadata": {},
          "execution_count": 49
        }
      ]
    },
    {
      "cell_type": "code",
      "source": [
        "#Permute \n",
        "#returns a view of the original tensor input with its dimensions permuted.\n",
        "x = torch.randn(2, 3, 5)\n",
        "x_permute = torch.permute(x, (2,0,1))\n",
        "x, x.size(), x_permute, x_permute.size()"
      ],
      "metadata": {
        "id": "vC73nKuGHlZX",
        "colab": {
          "base_uri": "https://localhost:8080/"
        },
        "outputId": "923bb5df-6df3-48a8-9ad5-7e0868e33365"
      },
      "execution_count": 50,
      "outputs": [
        {
          "output_type": "execute_result",
          "data": {
            "text/plain": [
              "(tensor([[[-0.3813,  0.2525, -0.0530,  0.2057, -1.5589],\n",
              "          [ 0.1957,  0.1011, -0.7643, -2.2190, -0.0353],\n",
              "          [ 0.9604,  0.3057, -1.5832, -1.1394,  0.6436]],\n",
              " \n",
              "         [[-0.8754, -0.3049, -0.2622,  1.1766, -0.0322],\n",
              "          [-1.2573,  1.1138,  2.6386, -0.0764, -0.9682],\n",
              "          [-0.4413,  1.8433, -1.9048,  1.9236,  0.5222]]]),\n",
              " torch.Size([2, 3, 5]),\n",
              " tensor([[[-0.3813,  0.1957,  0.9604],\n",
              "          [-0.8754, -1.2573, -0.4413]],\n",
              " \n",
              "         [[ 0.2525,  0.1011,  0.3057],\n",
              "          [-0.3049,  1.1138,  1.8433]],\n",
              " \n",
              "         [[-0.0530, -0.7643, -1.5832],\n",
              "          [-0.2622,  2.6386, -1.9048]],\n",
              " \n",
              "         [[ 0.2057, -2.2190, -1.1394],\n",
              "          [ 1.1766, -0.0764,  1.9236]],\n",
              " \n",
              "         [[-1.5589, -0.0353,  0.6436],\n",
              "          [-0.0322, -0.9682,  0.5222]]]),\n",
              " torch.Size([5, 2, 3]))"
            ]
          },
          "metadata": {},
          "execution_count": 50
        }
      ]
    },
    {
      "cell_type": "markdown",
      "source": [
        "##**Indexing (selecting data from tensor)**\n",
        "Similar to Python lists or NumPy arrays"
      ],
      "metadata": {
        "id": "8RJE_Ln5D5R5"
      }
    },
    {
      "cell_type": "code",
      "source": [
        "x = torch.arange(1,10).reshape(1,3,3)\n",
        "x, x.shape"
      ],
      "metadata": {
        "id": "tP7VcTgBDCkf",
        "colab": {
          "base_uri": "https://localhost:8080/"
        },
        "outputId": "5cd08ee9-e84c-430e-c40c-a0994bbf4320"
      },
      "execution_count": 51,
      "outputs": [
        {
          "output_type": "execute_result",
          "data": {
            "text/plain": [
              "(tensor([[[1, 2, 3],\n",
              "          [4, 5, 6],\n",
              "          [7, 8, 9]]]),\n",
              " torch.Size([1, 3, 3]))"
            ]
          },
          "metadata": {},
          "execution_count": 51
        }
      ]
    },
    {
      "cell_type": "code",
      "source": [
        "#Index and dimension concept\n",
        "x[0], x[0][0], x[0,0] # x[0][0] same as x[0,0]"
      ],
      "metadata": {
        "colab": {
          "base_uri": "https://localhost:8080/"
        },
        "id": "ier2hYmJFlCc",
        "outputId": "a917c6b1-fd47-469e-a76c-de97a860bc5a"
      },
      "execution_count": 52,
      "outputs": [
        {
          "output_type": "execute_result",
          "data": {
            "text/plain": [
              "(tensor([[1, 2, 3],\n",
              "         [4, 5, 6],\n",
              "         [7, 8, 9]]),\n",
              " tensor([1, 2, 3]),\n",
              " tensor([1, 2, 3]))"
            ]
          },
          "metadata": {},
          "execution_count": 52
        }
      ]
    },
    {
      "cell_type": "code",
      "source": [
        "# first (1-D) dimension is 0th dim\n",
        "# try to select any item\n",
        "x[0][0][0], x[0,0,0], x[0,1,1], x[0,2,2]"
      ],
      "metadata": {
        "colab": {
          "base_uri": "https://localhost:8080/"
        },
        "id": "08tmxtcmGYYG",
        "outputId": "3ddc64cc-ca51-42a6-e580-d27fd91d9097"
      },
      "execution_count": 53,
      "outputs": [
        {
          "output_type": "execute_result",
          "data": {
            "text/plain": [
              "(tensor(1), tensor(1), tensor(5), tensor(9))"
            ]
          },
          "metadata": {},
          "execution_count": 53
        }
      ]
    },
    {
      "cell_type": "code",
      "source": [
        "#use \":\" to specify \"all values in this dimension\"\n",
        "x[:,:,:], x[:], x[:,:]"
      ],
      "metadata": {
        "colab": {
          "base_uri": "https://localhost:8080/"
        },
        "id": "TFUER6dZIIxF",
        "outputId": "9787f8df-add8-41e8-96bf-c227220a4e81"
      },
      "execution_count": 54,
      "outputs": [
        {
          "output_type": "execute_result",
          "data": {
            "text/plain": [
              "(tensor([[[1, 2, 3],\n",
              "          [4, 5, 6],\n",
              "          [7, 8, 9]]]),\n",
              " tensor([[[1, 2, 3],\n",
              "          [4, 5, 6],\n",
              "          [7, 8, 9]]]),\n",
              " tensor([[[1, 2, 3],\n",
              "          [4, 5, 6],\n",
              "          [7, 8, 9]]]))"
            ]
          },
          "metadata": {},
          "execution_count": 54
        }
      ]
    },
    {
      "cell_type": "code",
      "source": [
        "# select row, column or an element using \":\"\n",
        "x[:,:,0], x[:,1,:], x[:,1,2], x[:,:,2]"
      ],
      "metadata": {
        "colab": {
          "base_uri": "https://localhost:8080/"
        },
        "id": "amhrncjBI6wJ",
        "outputId": "fac3478f-9f96-4c55-92b2-72b6d3c1613e"
      },
      "execution_count": 55,
      "outputs": [
        {
          "output_type": "execute_result",
          "data": {
            "text/plain": [
              "(tensor([[1, 4, 7]]), tensor([[4, 5, 6]]), tensor([6]), tensor([[3, 6, 9]]))"
            ]
          },
          "metadata": {},
          "execution_count": 55
        }
      ]
    },
    {
      "cell_type": "markdown",
      "source": [
        "## **PyTorch tensors & NumPy**\n",
        "1. NumPy array -> PyTorch tensor: `torch.from_numpy(ndarray)`\n",
        "2. PyTorch tensor -> NumPy array: `torch.Tensor.numpy()`"
      ],
      "metadata": {
        "id": "OFdMuFfVk91O"
      }
    },
    {
      "cell_type": "code",
      "source": [
        "# NumPy array Integer \n",
        "array = np.arange(1,10)\n",
        "array, array.dtype"
      ],
      "metadata": {
        "colab": {
          "base_uri": "https://localhost:8080/"
        },
        "id": "UMymIO83k9U1",
        "outputId": "6157f86a-0493-49a2-b44e-05ebc8d01d47"
      },
      "execution_count": 56,
      "outputs": [
        {
          "output_type": "execute_result",
          "data": {
            "text/plain": [
              "(array([1, 2, 3, 4, 5, 6, 7, 8, 9]), dtype('int64'))"
            ]
          },
          "metadata": {},
          "execution_count": 56
        }
      ]
    },
    {
      "cell_type": "code",
      "source": [
        "# NumPy array float\n",
        "# default float datatype is float64\n",
        "array = np.arange(1.,10.)\n",
        "array, array.dtype"
      ],
      "metadata": {
        "colab": {
          "base_uri": "https://localhost:8080/"
        },
        "id": "d9Vc0_N6mZFw",
        "outputId": "b85059bd-fdc1-4cae-b1c3-4fd7c8c43782"
      },
      "execution_count": 57,
      "outputs": [
        {
          "output_type": "execute_result",
          "data": {
            "text/plain": [
              "(array([1., 2., 3., 4., 5., 6., 7., 8., 9.]), dtype('float64'))"
            ]
          },
          "metadata": {},
          "execution_count": 57
        }
      ]
    },
    {
      "cell_type": "code",
      "source": [
        "# Numpy Convert datatype\n",
        "np.float32(array)"
      ],
      "metadata": {
        "colab": {
          "base_uri": "https://localhost:8080/"
        },
        "id": "rBkG-Ln4oTn0",
        "outputId": "5f4eff56-4c3f-4617-a754-48a37dae3e1e"
      },
      "execution_count": 58,
      "outputs": [
        {
          "output_type": "execute_result",
          "data": {
            "text/plain": [
              "array([1., 2., 3., 4., 5., 6., 7., 8., 9.], dtype=float32)"
            ]
          },
          "metadata": {},
          "execution_count": 58
        }
      ]
    },
    {
      "cell_type": "code",
      "source": [
        "# NumPy array to PyTorch tensor\n",
        "# default datatype of numpy float64 propagetes in tensor \n",
        "tensor = torch.from_numpy(array)\n",
        "array, tensor"
      ],
      "metadata": {
        "colab": {
          "base_uri": "https://localhost:8080/"
        },
        "id": "cQkKs0ZAmRIX",
        "outputId": "7dda1d25-f78a-4443-e553-32bcef1aa9f8"
      },
      "execution_count": 59,
      "outputs": [
        {
          "output_type": "execute_result",
          "data": {
            "text/plain": [
              "(array([1., 2., 3., 4., 5., 6., 7., 8., 9.]),\n",
              " tensor([1., 2., 3., 4., 5., 6., 7., 8., 9.], dtype=torch.float64))"
            ]
          },
          "metadata": {},
          "execution_count": 59
        }
      ]
    },
    {
      "cell_type": "code",
      "source": [
        "# go back to float32 datatype\n",
        "tensor.type(torch.float32), tensor.type(torch.float32).dtype"
      ],
      "metadata": {
        "colab": {
          "base_uri": "https://localhost:8080/"
        },
        "id": "Xghxx6BDpxcX",
        "outputId": "65856dc5-7199-4582-b7ac-2ff45b0b5547"
      },
      "execution_count": 60,
      "outputs": [
        {
          "output_type": "execute_result",
          "data": {
            "text/plain": [
              "(tensor([1., 2., 3., 4., 5., 6., 7., 8., 9.]), torch.float32)"
            ]
          },
          "metadata": {},
          "execution_count": 60
        }
      ]
    },
    {
      "cell_type": "code",
      "source": [
        "# tensor stays same if arrary changed and vice versa\n",
        "array = array + 1\n",
        "array, tensor"
      ],
      "metadata": {
        "colab": {
          "base_uri": "https://localhost:8080/"
        },
        "id": "g31zAX3dtEZZ",
        "outputId": "47800bac-cc07-4b86-95cd-13039d8103ad"
      },
      "execution_count": 61,
      "outputs": [
        {
          "output_type": "execute_result",
          "data": {
            "text/plain": [
              "(array([ 2.,  3.,  4.,  5.,  6.,  7.,  8.,  9., 10.]),\n",
              " tensor([1., 2., 3., 4., 5., 6., 7., 8., 9.], dtype=torch.float64))"
            ]
          },
          "metadata": {},
          "execution_count": 61
        }
      ]
    },
    {
      "cell_type": "code",
      "source": [
        "# PyTorch tensor to NumPy array\n",
        "tensor = torch.ones(5) # default dtype=float32\n",
        "tensor_to_numpy = tensor.numpy() #torch default dtype assigned to numpy\n",
        "tensor, tensor.dtype, tensor_to_numpy"
      ],
      "metadata": {
        "colab": {
          "base_uri": "https://localhost:8080/"
        },
        "id": "jqbd6JaZt74H",
        "outputId": "be749949-a7e1-4675-9dd2-bed2fccac783"
      },
      "execution_count": 62,
      "outputs": [
        {
          "output_type": "execute_result",
          "data": {
            "text/plain": [
              "(tensor([1., 1., 1., 1., 1.]),\n",
              " torch.float32,\n",
              " array([1., 1., 1., 1., 1.], dtype=float32))"
            ]
          },
          "metadata": {},
          "execution_count": 62
        }
      ]
    },
    {
      "cell_type": "markdown",
      "source": [
        "## **Reproducibility (trying to take the random out of random)**\n",
        "To perform repeatable experiments.\n",
        "I can create an algorithm capable of achieving X performance. Another person tries it out to verify and want to achieve same X performance. Here **reproducibility** comes in.\n",
        "\n",
        "Python random: https://www.geeksforgeeks.org/python-random-module/\n",
        "\n",
        "RNG: https://en.wikipedia.org/wiki/Random_number_generation#Computational_methods\n",
        "\n",
        "(pseudo-)random numbers work by starting with a number (the seed), multiplying it by a large number, adding an offset, then taking modulo of that sum. The resulting number is then used as the seed to generate the next \"random\" number. When you set the seed (every time), it does the same thing every time, giving you the same numbers.\n",
        "\n",
        "numpy/PyTorch set the seed to a random number obtained from /dev/urandom or its Windows analog or, if neither of those is available, it will use the clock."
      ],
      "metadata": {
        "id": "6tWkqAzYwfsQ"
      }
    },
    {
      "cell_type": "code",
      "source": [
        "#create two random tensors\n",
        "tensor_random_A = torch.rand(3,4)\n",
        "tensor_random_B = torch.rand(3,4)\n",
        "print(tensor_random_A)\n",
        "print(tensor_random_B)\n",
        "print(f\"If tensors are equal: \\n {tensor_random_A == tensor_random_B}\")"
      ],
      "metadata": {
        "colab": {
          "base_uri": "https://localhost:8080/"
        },
        "id": "nf147mUbwfWw",
        "outputId": "c93b484c-b83a-4f3e-c874-6d17d915c924"
      },
      "execution_count": 63,
      "outputs": [
        {
          "output_type": "stream",
          "name": "stdout",
          "text": [
            "tensor([[0.7046, 0.4925, 0.5680, 0.6293],\n",
            "        [0.6343, 0.5358, 0.7776, 0.2539],\n",
            "        [0.7163, 0.3560, 0.7059, 0.3078]])\n",
            "tensor([[7.4187e-01, 4.7318e-01, 9.5787e-01, 9.2185e-04],\n",
            "        [7.5016e-01, 2.8866e-01, 6.3147e-01, 5.7458e-02],\n",
            "        [4.5432e-01, 6.3251e-01, 9.9476e-01, 3.0390e-01]])\n",
            "If tensors are equal: \n",
            " tensor([[False, False, False, False],\n",
            "        [False, False, False, False],\n",
            "        [False, False, False, False]])\n"
          ]
        }
      ]
    },
    {
      "cell_type": "code",
      "source": [
        "#import torch\n",
        "#import random\n",
        "RANDOM_SEED = 44\n",
        "torch.manual_seed(seed=RANDOM_SEED)\n",
        "tensor_random_A = torch.rand(3,4)\n",
        "torch.manual_seed(seed=RANDOM_SEED)\n",
        "tensor_random_B = torch.rand(3,4)\n",
        "\n",
        "print(tensor_random_A)\n",
        "print(tensor_random_B)\n",
        "print(f\"If tensors are equal: \\n {tensor_random_A == tensor_random_B}\")"
      ],
      "metadata": {
        "colab": {
          "base_uri": "https://localhost:8080/"
        },
        "id": "Mw9UOUsI3fAk",
        "outputId": "9efe1cdd-554c-486b-c4e8-aa6992d7865c"
      },
      "execution_count": 64,
      "outputs": [
        {
          "output_type": "stream",
          "name": "stdout",
          "text": [
            "tensor([[0.7196, 0.7307, 0.8278, 0.1343],\n",
            "        [0.6280, 0.7297, 0.2882, 0.2112],\n",
            "        [0.9836, 0.8722, 0.9650, 0.7837]])\n",
            "tensor([[0.7196, 0.7307, 0.8278, 0.1343],\n",
            "        [0.6280, 0.7297, 0.2882, 0.2112],\n",
            "        [0.9836, 0.8722, 0.9650, 0.7837]])\n",
            "If tensors are equal: \n",
            " tensor([[True, True, True, True],\n",
            "        [True, True, True, True],\n",
            "        [True, True, True, True]])\n"
          ]
        }
      ]
    },
    {
      "cell_type": "code",
      "source": [
        "# In python random.seed() in PyTorch torch.manual_seed()\n",
        "import random\n",
        " \n",
        "random.seed(5)\n",
        "print(random.random())\n",
        "\n",
        "random.seed(5)\n",
        "print(random.random())"
      ],
      "metadata": {
        "colab": {
          "base_uri": "https://localhost:8080/"
        },
        "id": "3zI4fWCw5Scy",
        "outputId": "172a887d-f6ad-4377-d18b-8a8ecbe735aa"
      },
      "execution_count": 65,
      "outputs": [
        {
          "output_type": "stream",
          "name": "stdout",
          "text": [
            "0.6229016948897019\n",
            "0.6229016948897019\n"
          ]
        }
      ]
    },
    {
      "cell_type": "code",
      "source": [
        "#Numpy also has its own random method\n",
        "import numpy as np\n",
        "\n",
        "np.random.seed(5)\n",
        "print(np.random.random())\n",
        "\n",
        "np.random.seed(5)\n",
        "print(np.random.random())"
      ],
      "metadata": {
        "colab": {
          "base_uri": "https://localhost:8080/"
        },
        "id": "2lDehWbxayke",
        "outputId": "b5c98715-07a4-4df4-de79-110c1e393402"
      },
      "execution_count": 67,
      "outputs": [
        {
          "output_type": "stream",
          "name": "stdout",
          "text": [
            "0.22199317108973948\n",
            "0.22199317108973948\n"
          ]
        }
      ]
    },
    {
      "cell_type": "markdown",
      "source": [
        "Reproducible results may/will vary across:\n",
        "1. PyTorch releases, \n",
        "2. individual commits, \n",
        "3. different platforms,\n",
        "4. devices (CPU and GPU).\n",
        "\n",
        "Limit randomness\n",
        "1. Avoid multiple executions of your application.\n",
        "2. Avoid multiple calls to those operations."
      ],
      "metadata": {
        "id": "fL_vi2D7i7Oe"
      }
    },
    {
      "cell_type": "markdown",
      "source": [
        "## **Device**\n",
        "\n",
        "Nvidia GPU with CUDA driver installed is recommended\n",
        "https://timdettmers.com/2023/01/30/which-gpu-for-deep-learning/\n",
        "\n",
        "Device-agnostic code:  \n",
        "https://pytorch.org/docs/master/notes/cuda.html#device-agnostic-code"
      ],
      "metadata": {
        "id": "vn0k6Hqpo3Zs"
      }
    },
    {
      "cell_type": "code",
      "execution_count": null,
      "metadata": {
        "colab": {
          "base_uri": "https://localhost:8080/"
        },
        "id": "BjksYEylI3Kq",
        "outputId": "9267d31d-e6ad-4f23-8fbb-61a95c0ee26e"
      },
      "outputs": [
        {
          "output_type": "stream",
          "name": "stdout",
          "text": [
            "Mon Jun 12 02:47:10 2023       \n",
            "+-----------------------------------------------------------------------------+\n",
            "| NVIDIA-SMI 525.85.12    Driver Version: 525.85.12    CUDA Version: 12.0     |\n",
            "|-------------------------------+----------------------+----------------------+\n",
            "| GPU  Name        Persistence-M| Bus-Id        Disp.A | Volatile Uncorr. ECC |\n",
            "| Fan  Temp  Perf  Pwr:Usage/Cap|         Memory-Usage | GPU-Util  Compute M. |\n",
            "|                               |                      |               MIG M. |\n",
            "|===============================+======================+======================|\n",
            "|   0  Tesla T4            Off  | 00000000:00:04.0 Off |                    0 |\n",
            "| N/A   41C    P8     9W /  70W |      0MiB / 15360MiB |      0%      Default |\n",
            "|                               |                      |                  N/A |\n",
            "+-------------------------------+----------------------+----------------------+\n",
            "                                                                               \n",
            "+-----------------------------------------------------------------------------+\n",
            "| Processes:                                                                  |\n",
            "|  GPU   GI   CI        PID   Type   Process name                  GPU Memory |\n",
            "|        ID   ID                                                   Usage      |\n",
            "|=============================================================================|\n",
            "|  No running processes found                                                 |\n",
            "+-----------------------------------------------------------------------------+\n"
          ]
        }
      ],
      "source": [
        "!nvidia-smi"
      ]
    },
    {
      "cell_type": "code",
      "source": [
        "# Check for GPU and count of GPU(s)\n",
        "torch.cuda.is_available(), torch.cuda.device_count()"
      ],
      "metadata": {
        "colab": {
          "base_uri": "https://localhost:8080/"
        },
        "id": "h4HAYjd_pkee",
        "outputId": "ca573422-7747-4d1b-81cc-c0bced9caa89"
      },
      "execution_count": null,
      "outputs": [
        {
          "output_type": "execute_result",
          "data": {
            "text/plain": [
              "(True, 1)"
            ]
          },
          "metadata": {},
          "execution_count": 69
        }
      ]
    },
    {
      "cell_type": "code",
      "source": [
        "# Simple Device-agnostic code\n",
        "# better code is in documentation\n",
        "device = \"cuda\" if torch.cuda.is_available() else \"CPU\"\n",
        "device"
      ],
      "metadata": {
        "id": "g_q6fAh8qiYr",
        "colab": {
          "base_uri": "https://localhost:8080/",
          "height": 35
        },
        "outputId": "f33f749b-8470-4fb7-9b0e-c3e3f5db4a4a"
      },
      "execution_count": 71,
      "outputs": [
        {
          "output_type": "execute_result",
          "data": {
            "text/plain": [
              "'cuda'"
            ],
            "application/vnd.google.colaboratory.intrinsic+json": {
              "type": "string"
            }
          },
          "metadata": {},
          "execution_count": 71
        }
      ]
    },
    {
      "cell_type": "code",
      "source": [
        "# create a tensor (default on CPU)\n",
        "tensor = torch.tensor([1, 3, 4, 6])\n",
        "tensor, tensor.device"
      ],
      "metadata": {
        "colab": {
          "base_uri": "https://localhost:8080/"
        },
        "id": "0e98E3r7vKE3",
        "outputId": "661a8fd1-82e3-491c-83e3-cc3e102bab5e"
      },
      "execution_count": 75,
      "outputs": [
        {
          "output_type": "execute_result",
          "data": {
            "text/plain": [
              "(tensor([1, 3, 4, 6]), device(type='cpu'))"
            ]
          },
          "metadata": {},
          "execution_count": 75
        }
      ]
    },
    {
      "cell_type": "code",
      "source": [
        "# move tensor to GPU if available\n",
        "tensor_to_gpu = tensor.to(device)\n",
        "tensor_to_gpu"
      ],
      "metadata": {
        "colab": {
          "base_uri": "https://localhost:8080/"
        },
        "id": "XDSEItFsvrvE",
        "outputId": "cfad6ea8-b37f-4677-d67f-6b85476f6c51"
      },
      "execution_count": 79,
      "outputs": [
        {
          "output_type": "execute_result",
          "data": {
            "text/plain": [
              "tensor([1, 3, 4, 6], device='cuda:0')"
            ]
          },
          "metadata": {},
          "execution_count": 79
        }
      ]
    },
    {
      "cell_type": "code",
      "source": [
        "# move tensor back to cpu\n",
        "tensor_back_to_cpu = tensor_to_gpu.cpu()\n",
        "tensor_back_to_cpu, tensor_back_to_cpu.device"
      ],
      "metadata": {
        "colab": {
          "base_uri": "https://localhost:8080/"
        },
        "id": "HT2sYhfiwho4",
        "outputId": "ae533a95-a35f-48ac-a1fc-b072c907f58e"
      },
      "execution_count": 85,
      "outputs": [
        {
          "output_type": "execute_result",
          "data": {
            "text/plain": [
              "(tensor([1, 3, 4, 6]), device(type='cpu'))"
            ]
          },
          "metadata": {},
          "execution_count": 85
        }
      ]
    },
    {
      "cell_type": "code",
      "source": [
        "# tensors physically moved to other devices. Not copied.\n",
        "tensor, tensor.device, tensor_to_gpu, tensor_back_to_cpu.device, tensor_back_to_cpu, tensor_back_to_cpu.device"
      ],
      "metadata": {
        "colab": {
          "base_uri": "https://localhost:8080/"
        },
        "id": "SuHKxEgMy2UV",
        "outputId": "9df18752-29d9-4bf8-af58-32aaa1ed77f2"
      },
      "execution_count": 91,
      "outputs": [
        {
          "output_type": "execute_result",
          "data": {
            "text/plain": [
              "(tensor([1, 3, 4, 6]),\n",
              " device(type='cpu'),\n",
              " tensor([1, 3, 4, 6], device='cuda:0'),\n",
              " device(type='cpu'),\n",
              " tensor([1, 3, 4, 6]),\n",
              " device(type='cpu'))"
            ]
          },
          "metadata": {},
          "execution_count": 91
        }
      ]
    },
    {
      "cell_type": "code",
      "source": [
        "# Numpy does not work on GPU\n",
        "#tensor_to_gpu.numpy()"
      ],
      "metadata": {
        "id": "tffKBIw1xebe"
      },
      "execution_count": 88,
      "outputs": []
    },
    {
      "cell_type": "markdown",
      "source": [
        "`---------------------------------------------------------------------------\n",
        "TypeError                                 Traceback (most recent call last)\n",
        "<ipython-input-86-14c649e28ccc> in <cell line: 2>()\n",
        "      1 # Numpy does not work on GPU\n",
        "----> 2 tensor_to_gpu.numpy()\n",
        "\n",
        "TypeError: can't convert cuda:0 device type tensor to numpy. Use Tensor.cpu() to copy the tensor to host memory first.`"
      ],
      "metadata": {
        "id": "NMR-j1rAyMUe"
      }
    },
    {
      "cell_type": "code",
      "source": [
        "# Numpy only works on CPU\n",
        "tensor_back_to_cpu.numpy()"
      ],
      "metadata": {
        "colab": {
          "base_uri": "https://localhost:8080/"
        },
        "id": "RHecfozIygCy",
        "outputId": "00b02006-c86f-48cc-9475-0a05d45b0402"
      },
      "execution_count": 89,
      "outputs": [
        {
          "output_type": "execute_result",
          "data": {
            "text/plain": [
              "array([1, 3, 4, 6])"
            ]
          },
          "metadata": {},
          "execution_count": 89
        }
      ]
    },
    {
      "cell_type": "markdown",
      "source": [
        "# **PyTorch Workflows**\n",
        "Machine Learning:\n",
        "1. Get data into a numerical representation.\n",
        "2. Build a model to learn the patterns in that numerical representation."
      ],
      "metadata": {
        "id": "asomIHg81c0X"
      }
    },
    {
      "cell_type": "code",
      "source": [
        "import torch\n",
        "from torch import nn # contains PyTorch building blocks for Neural networks\n",
        "import matplotlib.pyplot as plt\n"
      ],
      "metadata": {
        "id": "aQdaYcLv1lyq"
      },
      "execution_count": null,
      "outputs": []
    }
  ]
}